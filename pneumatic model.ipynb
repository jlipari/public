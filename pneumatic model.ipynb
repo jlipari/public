{
 "cells": [
  {
   "cell_type": "markdown",
   "metadata": {},
   "source": [
    "<img src=\"pneumatic model.png\">"
   ]
  },
  {
   "cell_type": "code",
   "execution_count": 59,
   "metadata": {},
   "outputs": [
    {
     "name": "stdout",
     "output_type": "stream",
     "text": [
      "eqn 1:\n"
     ]
    },
    {
     "data": {
      "image/png": "[encoded data removed]",
      "text/latex": [
       "$\\displaystyle - b v{\\left(t \\right)} - m \\frac{d}{d t} v{\\left(t \\right)} + F{\\left(t \\right)}$"
      ],
      "text/plain": [
       "            d              \n",
       "-b⋅v(t) - m⋅──(v(t)) + F(t)\n",
       "            dt             "
      ]
     },
     "metadata": {},
     "output_type": "display_data"
    },
    {
     "name": "stdout",
     "output_type": "stream",
     "text": [
      "analytical solution:\n"
     ]
    },
    {
     "data": {
      "image/png": "[encoded data removed]",
      "text/latex": [
       "$\\displaystyle v{\\left(t \\right)} = \\left(C_{1} + \\frac{\\int F{\\left(t \\right)} e^{\\frac{b t}{m}}\\, dt}{m}\\right) e^{- \\frac{b t}{m}}$"
      ],
      "text/plain": [
       "       ⎛     ⌠             ⎞       \n",
       "       ⎜     ⎮       b⋅t   ⎟       \n",
       "       ⎜     ⎮       ───   ⎟       \n",
       "       ⎜     ⎮        m    ⎟  -b⋅t \n",
       "       ⎜     ⎮ F(t)⋅ℯ    dt⎟  ─────\n",
       "       ⎜     ⌡             ⎟    m  \n",
       "v(t) = ⎜C₁ + ──────────────⎟⋅ℯ     \n",
       "       ⎝           m       ⎠       "
      ]
     },
     "execution_count": 59,
     "metadata": {},
     "output_type": "execute_result"
    }
   ],
   "source": [
    "import sympy as sym\n",
    "sym.init_printing()\n",
    "\n",
    "'''Apply Newtons 2nd Law to mass'''\n",
    "v, F = sym.symbols('v F', cls=sym.Function)\n",
    "#Apply Newtons law to the mass\n",
    "m, b, t = sym.symbols('m b t')\n",
    "# b = sym.symbols('b')\n",
    "\n",
    "print('eqn 1:')\n",
    "eqn1 = F(t) - b*v(t) - sym.Derivative(v(t),t)*m\n",
    "display(eqn1)\n",
    "\n",
    "print('analytical solution:')\n",
    "sym.dsolve(eqn1, v(t))"
   ]
  },
  {
   "cell_type": "code",
   "execution_count": 60,
   "metadata": {},
   "outputs": [
    {
     "name": "stdout",
     "output_type": "stream",
     "text": [
      "ideal gas law\n"
     ]
    },
    {
     "data": {
      "image/png": "[encoded data removed]",
      "text/latex": [
       "$\\displaystyle - T n r + P{\\left(t \\right)} V{\\left(t \\right)}$"
      ],
      "text/plain": [
       "-T⋅n⋅r + P(t)⋅V(t)"
      ]
     },
     "metadata": {},
     "output_type": "display_data"
    },
    {
     "name": "stdout",
     "output_type": "stream",
     "text": [
      "eqn 2 (assume adibatic):\n"
     ]
    },
    {
     "data": {
      "image/png": "[encoded data removed]",
      "text/latex": [
       "$\\displaystyle - K_{a} + P{\\left(t \\right)} V{\\left(t \\right)}$"
      ],
      "text/plain": [
       "-Kₐ + P(t)⋅V(t)"
      ]
     },
     "metadata": {},
     "output_type": "display_data"
    },
    {
     "name": "stdout",
     "output_type": "stream",
     "text": [
      "eqn 3:\n"
     ]
    },
    {
     "data": {
      "image/png": "[encoded data removed]",
      "text/latex": [
       "$\\displaystyle - A_{bore} v{\\left(t \\right)} + \\frac{d}{d t} V{\\left(t \\right)}$"
      ],
      "text/plain": [
       "               d       \n",
       "-A_bore⋅v(t) + ──(V(t))\n",
       "               dt      "
      ]
     },
     "metadata": {},
     "output_type": "display_data"
    },
    {
     "name": "stdout",
     "output_type": "stream",
     "text": [
      "eqn 4:\n"
     ]
    },
    {
     "data": {
      "image/png": "[encoded data removed]",
      "text/latex": [
       "$\\displaystyle - A_{bore} P{\\left(t \\right)} + F{\\left(t \\right)}$"
      ],
      "text/plain": [
       "-A_bore⋅P(t) + F(t)"
      ]
     },
     "metadata": {},
     "output_type": "display_data"
    }
   ],
   "source": [
    "'''write F(t) as a function of velocity\n",
    "write out base equations'''\n",
    "\n",
    "n,r,T = sym.symbols('n, r, T')\n",
    "V, P = sym.symbols('V, P', cls=sym.Function)\n",
    "print(\"ideal gas law\")\n",
    "display(P(t)*V(t) -n*r*T)\n",
    "K_a = sym.symbols('K_a')\n",
    "print('eqn 2 (assume adibatic):')\n",
    "eqn2 = (P(t)*V(t)-K_a)\n",
    "display(eqn2)\n",
    "\n",
    "#Actuator volume\n",
    "A_bore = sym.symbols('A_bore')\n",
    "print('eqn 3:')\n",
    "eqn3 = sym.Derivative(V(t),t) - v(t)*A_bore\n",
    "display(eqn3)\n",
    "\n",
    "#Actuator force\n",
    "print('eqn 4:')\n",
    "eqn4 = F(t) - P(t)*A_bore\n",
    "display(eqn4)"
   ]
  },
  {
   "cell_type": "code",
   "execution_count": 61,
   "metadata": {},
   "outputs": [
    {
     "name": "stdout",
     "output_type": "stream",
     "text": [
      "eqn 5:\n"
     ]
    },
    {
     "data": {
      "image/png": "[encoded data removed]",
      "text/latex": [
       "$\\displaystyle - \\frac{A_{bore} K_{a}}{V{\\left(t \\right)}} + F{\\left(t \\right)}$"
      ],
      "text/plain": [
       "  A_bore⋅Kₐ       \n",
       "- ───────── + F(t)\n",
       "     V(t)         "
      ]
     },
     "metadata": {},
     "output_type": "display_data"
    },
    {
     "name": "stdout",
     "output_type": "stream",
     "text": [
      "eqn 6:\n"
     ]
    },
    {
     "data": {
      "image/png": "[encoded data removed]",
      "text/latex": [
       "$\\displaystyle - A_{bore} \\int v{\\left(t \\right)}\\, dt - Vo + V{\\left(t \\right)}$"
      ],
      "text/plain": [
       "         ⌠                    \n",
       "- A_bore⋅⎮ v(t) dt - Vo + V(t)\n",
       "         ⌡                    "
      ]
     },
     "metadata": {},
     "output_type": "display_data"
    },
    {
     "name": "stdout",
     "output_type": "stream",
     "text": [
      "eqn 7:\n"
     ]
    },
    {
     "data": {
      "image/png": "[encoded data removed]",
      "text/latex": [
       "$\\displaystyle - \\frac{A_{bore} K_{a}}{A_{bore} \\int v{\\left(t \\right)}\\, dt + Vo} + F{\\left(t \\right)}$"
      ],
      "text/plain": [
       "        A_bore⋅Kₐ             \n",
       "- ───────────────────── + F(t)\n",
       "         ⌠                    \n",
       "  A_bore⋅⎮ v(t) dt + Vo       \n",
       "         ⌡                    "
      ]
     },
     "metadata": {},
     "output_type": "display_data"
    },
    {
     "name": "stdout",
     "output_type": "stream",
     "text": [
      "eqn 8:\n"
     ]
    },
    {
     "data": {
      "image/png": "[encoded data removed]",
      "text/latex": [
       "$\\displaystyle \\frac{A_{bore} K_{a}}{A_{bore} \\int v{\\left(t \\right)}\\, dt + Vo} - b v{\\left(t \\right)} - m \\frac{d}{d t} v{\\left(t \\right)}$"
      ],
      "text/plain": [
       "      A_bore⋅Kₐ                    d       \n",
       "───────────────────── - b⋅v(t) - m⋅──(v(t))\n",
       "       ⌠                           dt      \n",
       "A_bore⋅⎮ v(t) dt + Vo                      \n",
       "       ⌡                                   "
      ]
     },
     "metadata": {},
     "output_type": "display_data"
    },
    {
     "name": "stdout",
     "output_type": "stream",
     "text": [
      "eqn 9:\n"
     ]
    },
    {
     "data": {
      "image/png": "[encoded data removed]",
      "text/latex": [
       "$\\displaystyle \\frac{A_{bore} K_{a}}{A_{bore} x{\\left(t \\right)} + Vo} - b \\frac{d}{d t} x{\\left(t \\right)} - m \\frac{d^{2}}{d t^{2}} x{\\left(t \\right)}$"
      ],
      "text/plain": [
       "                                    2      \n",
       "   A_bore⋅Kₐ         d             d       \n",
       "──────────────── - b⋅──(x(t)) - m⋅───(x(t))\n",
       "A_bore⋅x(t) + Vo     dt             2      \n",
       "                                  dt       "
      ]
     },
     "metadata": {},
     "output_type": "display_data"
    }
   ],
   "source": [
    "'''we want F(t) in our original equation to be in terms of v(t)'''\n",
    "\n",
    "#sub 2 into 4\"\n",
    "print('eqn 5:')\n",
    "eqn5 = eqn4.subs({P(t):sym.solve(eqn2,P(t))[0]})\n",
    "display(eqn5)\n",
    "\n",
    "#integrate 3\n",
    "#tank initial Volume\n",
    "Vo = sym.symbols('Vo')\n",
    "#actuator initial position, but we'll zero it out\n",
    "xo = sym.symbols('xo')\n",
    "print('eqn 6:')\n",
    "#I'm skeptical. Why aren't we seeing V(t) = Vo + A*x(t)?\n",
    "\"\"\"manually fix\"\"\"\n",
    "eqn6 = -A_bore*sym.Integral(v(t),t) + V(t) -Vo\n",
    "display(eqn6)\n",
    "\n",
    "#sub 6 into 5\n",
    "print('eqn 7:')\n",
    "eqn7 = eqn5.subs({V(t):sym.solve(eqn6,V(t))[0]})\n",
    "display(eqn7)\n",
    "sol = (sym.solve(eqn7, F(t))[0])\n",
    "\n",
    "#sub 7 into 1\n",
    "print('eqn 8:')\n",
    "eqn8 = eqn1.subs({F(t):sym.solve(eqn7,F(t))[0]})\n",
    "display(eqn8)\n",
    "\n",
    "#write in terms of x(t)\n",
    "x = sym.symbols('x', cls=sym.Function)\n",
    "\n",
    "print('eqn 9:')\n",
    "eqn9 = eqn8.subs({sym.Integral(v(t),t):x(t), v(t): sym.Derivative(x(t),t)})  \n",
    "display(eqn9)"
   ]
  },
  {
   "cell_type": "code",
   "execution_count": 62,
   "metadata": {},
   "outputs": [
    {
     "name": "stdout",
     "output_type": "stream",
     "text": [
      "---------------------------Just showing standard form--------------------------------\n",
      "eqn 10:\n"
     ]
    },
    {
     "data": {
      "image/png": "[encoded data removed]",
      "text/latex": [
       "$\\displaystyle \\frac{K_{a}}{\\alpha + x{\\left(t \\right)}} - b \\frac{d}{d t} x{\\left(t \\right)} - m \\frac{d^{2}}{d t^{2}} x{\\left(t \\right)}$"
      ],
      "text/plain": [
       "                            2      \n",
       "   Kₐ        d             d       \n",
       "──────── - b⋅──(x(t)) - m⋅───(x(t))\n",
       "α + x(t)     dt             2      \n",
       "                          dt       "
      ]
     },
     "metadata": {},
     "output_type": "display_data"
    },
    {
     "name": "stdout",
     "output_type": "stream",
     "text": [
      "eqn 11:\n"
     ]
    },
    {
     "data": {
      "image/png": "[encoded data removed]",
      "text/latex": [
       "$\\displaystyle K_{a} - \\left(\\alpha + x{\\left(t \\right)}\\right) \\left(b \\frac{d}{d t} x{\\left(t \\right)} + m \\frac{d^{2}}{d t^{2}} x{\\left(t \\right)}\\right)$"
      ],
      "text/plain": [
       "                ⎛                 2      ⎞\n",
       "                ⎜  d             d       ⎟\n",
       "Kₐ - (α + x(t))⋅⎜b⋅──(x(t)) + m⋅───(x(t))⎟\n",
       "                ⎜  dt             2      ⎟\n",
       "                ⎝               dt       ⎠"
      ]
     },
     "metadata": {},
     "output_type": "display_data"
    },
    {
     "name": "stdout",
     "output_type": "stream",
     "text": [
      "eqn 12:\n"
     ]
    },
    {
     "data": {
      "image/png": "[encoded data removed]",
      "text/latex": [
       "$\\displaystyle \\frac{K_{a} - \\alpha b \\frac{d}{d t} x{\\left(t \\right)} - b x{\\left(t \\right)} \\frac{d}{d t} x{\\left(t \\right)}}{m \\left(\\alpha + x{\\left(t \\right)}\\right)}$"
      ],
      "text/plain": [
       "         d                 d       \n",
       "Kₐ - α⋅b⋅──(x(t)) - b⋅x(t)⋅──(x(t))\n",
       "         dt                dt      \n",
       "───────────────────────────────────\n",
       "            m⋅(α + x(t))           "
      ]
     },
     "metadata": {},
     "output_type": "display_data"
    },
    {
     "name": "stdout",
     "output_type": "stream",
     "text": [
      "---------------------------Just showing standard form--------------------------------\n",
      "eqn 13:\n"
     ]
    },
    {
     "data": {
      "image/png": "[encoded data removed]",
      "text/latex": [
       "$\\displaystyle \\frac{A_{bore} K_{a} - A_{bore} b x{\\left(t \\right)} \\frac{d}{d t} x{\\left(t \\right)} - Vo b \\frac{d}{d t} x{\\left(t \\right)}}{m \\left(A_{bore} x{\\left(t \\right)} + Vo\\right)}$"
      ],
      "text/plain": [
       "                          d               d       \n",
       "A_bore⋅Kₐ - A_bore⋅b⋅x(t)⋅──(x(t)) - Vo⋅b⋅──(x(t))\n",
       "                          dt              dt      \n",
       "──────────────────────────────────────────────────\n",
       "               m⋅(A_bore⋅x(t) + Vo)               "
      ]
     },
     "metadata": {},
     "output_type": "display_data"
    }
   ],
   "source": [
    "'''get eqn in standard form'''\n",
    "print(\"---------------------------Just showing standard form--------------------------------\")\n",
    "#take alpha = -Vo/A\n",
    "alpha = sym.symbols('alpha')\n",
    "eqn10 = K_a/(x(t)+alpha) - b*sym.Derivative(x(t),t)-m*sym.Derivative(x(t),t,t)\n",
    "print('eqn 10:')\n",
    "display(eqn10)\n",
    "\n",
    "#multiply through to coerce function into standard form\n",
    "eqn11 = eqn10*(alpha+x(t))\n",
    "print('eqn 11:')\n",
    "display(sym.simplify(eqn11))\n",
    "\n",
    "#solve eqn11 in terms of the double derivative\n",
    "print('eqn 12:')\n",
    "eqn12 = sym.solve(eqn11, sym.Derivative(x(t),t,t))[0]\n",
    "display(eqn12)\n",
    "print(\"---------------------------Just showing standard form--------------------------------\")\n",
    "\n",
    "#I actually want to see where A_bore and Vo end up in this form\n",
    "print('eqn 13:')\n",
    "eqn13 = sym.solve(eqn9, sym.Derivative(x(t),t,t))[0]\n",
    "display(eqn13)"
   ]
  },
  {
   "cell_type": "code",
   "execution_count": 63,
   "metadata": {},
   "outputs": [
    {
     "data": {
      "text/plain": [
       "'calcs on existing system to determine variables'"
      ]
     },
     "execution_count": 63,
     "metadata": {},
     "output_type": "execute_result"
    }
   ],
   "source": [
    "'''calcs on existing system to determine variables'''\n",
    "# from pint import UnitRegistry\n",
    "# ureg = UnitRegistry()\n",
    "# #calculate the a constant\n",
    "# D_tank = 2.5*12\n",
    "# L_tank = 4*12\n",
    "# V_tank = D_tank**2*np.pi/4*L_tank*ureg.inch**3\n",
    "# V_tank.to(ureg.meter**3)\n",
    "# P_tank = 100*ureg.lbf/ureg.inch**2\n",
    "# P_tank.to(ureg.newton/ureg.meter**2)\n",
    "# K_tank = P_tank*V_tank\n",
    "# print(\"a constant\")\n",
    "# display(K_tank)\n"
   ]
  },
  {
   "cell_type": "code",
   "execution_count": 132,
   "metadata": {},
   "outputs": [
    {
     "name": "stdout",
     "output_type": "stream",
     "text": [
      "you've gotten to 105.0 percent of your target distance\n"
     ]
    }
   ],
   "source": [
    "'''solve numerically.\n",
    "v(t) = x'(t)\n",
    "'''\n",
    "# %matplotlib inline\n",
    "%matplotlib qt \n",
    "\n",
    "from scipy.integrate import odeint\n",
    "import numpy as np\n",
    "\n",
    "N_lbf = 4.44\n",
    "in_m = 39.37\n",
    "\n",
    "Vo = 0.118 #m^3, changed the revolve and measured in solidworks\n",
    "Po = 50.0*N_lbf*in_m**2\n",
    "K_a = Vo*Po\n",
    "D_bore = 3.25 #inch\n",
    "A_bore = (D_bore/in_m/2)**2*np.pi\n",
    "b = 500\n",
    "m = 40.8 #kg, from biocore\n",
    "alpha = -Vo/A_bore\n",
    "q = 1000 #y-intercept for soil\n",
    "\n",
    "def model(x,t):\n",
    "    y = x[0]\n",
    "    dy = x[1]\n",
    "    xdot = [[],[]]\n",
    "    xdot[0] = dy\n",
    "#     xdot[1] = (A_bore*K_a-A_bore*b*y*dy-Vo*b*dy)/(m*(A_bore*y+Vo)) old soil model\n",
    "    xdot[1] = (A_bore*K_a-A_bore*b*y*dy-A_bore*q*y-Vo*b*dy-Vo*q)/(m*(A_bore*y+Vo))\n",
    "    return xdot\n",
    "time = np.linspace(0,.2,100)\n",
    "z2 = odeint(model, [0,0],time)\n",
    "# print(time)\n",
    "x_goal = max(z2[:,0])/.2*100\n",
    "\n",
    "print(\"you've gotten to {:.1f} percent of your target distance\".format(x_goal))"
   ]
  },
  {
   "cell_type": "code",
   "execution_count": 135,
   "metadata": {},
   "outputs": [
    {
     "name": "stdout",
     "output_type": "stream",
     "text": [
      "you reached 200mm in 0.19 seconds\n",
      "[841.6605183965921, 806.6685678648789, 772.5256219255508, 739.2112121430014, 706.7053525083811, 674.988542270032, 644.0417476725827, 613.8463934014243, 584.3843523620347, 555.6379426772972, 527.5899064012945, 500.223395578042, 473.5219639255579, 447.4695723008005, 422.0505672307258, 397.2496689116091, 373.0519701947028, 349.44292131847146, 326.40832302120873, 303.9343204010786, 282.00739072207733, 260.6143379197479, 239.74228552335265, 219.37866563224196, 199.51121656140788, 180.1279710527148, 161.21724831785676, 142.7676474909703, 124.76804257423677, 107.20758108635341, 90.07567051345517, 73.36197516705356, 57.05641121416964, 41.149133013175415, 25.630529169946037, 10.4912243357411, -4.277929736945435, -18.68585977413646, -32.741281551204814, -46.45269948030037, -59.828411947495155, -72.87651691363928, -85.60491719939856, -98.02132608455716, -110.13327006471266, -121.94809386595146, -133.47296474480197, -144.7148780137559, -155.6806605490361, -166.3769740803555, -176.81031954265598, -186.98704100558692, -196.9133303166452, -206.59522968906413, -216.03863541162684, -225.2493013765318, -234.23284312409305, -242.99474158735345, -251.54034470522532, -259.8748711940539, -268.00341354189385, -275.9309408905444, -283.66230407723424, -291.2022380211983, -298.5553621037014, -305.726184128464, -312.71910290622856, -319.53841079189465, -326.1882981820248, -332.6728545550835, -338.99606996628506, -345.16183805800097, -351.1739582823229, -357.0361381812056, -362.75199762317203, -368.32506880925206, -373.7587981984755, -379.0565489612483, -384.22160289790133, -389.25716254604157, -394.1663548104547, -398.9522305376161, -403.61776666024525, -408.16586816486125, -412.5993697481034, -416.9210377987553, -421.13357329652587, -425.2396113464959, -429.24172330227634, -433.1424183562503, -436.9441449665431, -440.6492927611537, -444.2601948379454, -447.779127194331, -451.2083108703573, -454.5499132004352, -457.80604904881017, -460.9787827850303, -464.0701296784297, -467.082055660561]\n"
     ]
    }
   ],
   "source": [
    "V = []\n",
    "F_cleat = []\n",
    "F_actuator = []\n",
    "F_inertia = []\n",
    "F_actuator2 = []\n",
    "P = []\n",
    "PtimesV = []\n",
    "a = []\n",
    "t_impact = []\n",
    "\n",
    "for index, i in enumerate(z2):\n",
    "    x = i[0]\n",
    "    v = i[1]\n",
    "#     ai = (A_bore*K_a-A_bore*b*x*v-Vo*b*v)/(m*(A_bore*x+Vo)) old soil model\n",
    "    ai = (A_bore*K_a-A_bore*q*x+A_bore*r*x*v-Vo*q+Vo*r*v)/(m*(A_bore*x+Vo))\n",
    "    Vi = Vo + x*A_bore\n",
    "    Pi = K_a/Vi\n",
    "#     F_cleati = b*v old soil model\n",
    "    F_cleati = q-r*v\n",
    "    F_actuatori = Pi*A_bore\n",
    "    F_inertiai = ai*m\n",
    "    \n",
    "    a.append(ai)\n",
    "    V.append(Vi)\n",
    "    P.append(Pi)    \n",
    "    F_cleat.append(F_cleati)\n",
    "    F_actuator.append(F_actuatori)\n",
    "    F_inertia.append(F_inertiai)\n",
    "    PtimesV.append(PtimesVi)\n",
    "    \n",
    "    if x>.200:\n",
    "        t_impact.append(time[index])\n",
    "    else:\n",
    "        pass\n",
    "\n",
    "print('you reached 200mm in {:.2f} seconds'.format(t_impact[0]))\n",
    "print(F_inertia)"
   ]
  },
  {
   "cell_type": "code",
   "execution_count": 136,
   "metadata": {},
   "outputs": [],
   "source": [
    "\"\"\"plot results\"\"\"\n",
    "\n",
    "import matplotlib.pyplot as plt\n",
    "plt.close()\n",
    "# fig, (ax1, ax2, ax3, ax4, ax5) = plt.subplots(5, gridspec_kw={'hspace':1})\n",
    "fig, (ax1, ax2, ax3, ax4, ax5) = plt.subplots(5)\n",
    "\n",
    "# plt.plot(time, z2[:,1],'r-')\n",
    "\n",
    "ax1.plot(time, z2[:,0],'g-')\n",
    "ax1.set_title(\"Distance\")\n",
    "ax1.set_ylabel(\"Distance (m)\")\n",
    "\n",
    "ax2.plot(time,z2[:,1])\n",
    "ax2.set_title(\"Velocity\")\n",
    "ax2.set_ylabel(\"velocity (m/s)\")\n",
    "\n",
    "\n",
    "ax3.set_title(\"Forces\")\n",
    "ax3.set_ylabel(\"F (N)\")\n",
    "\n",
    "ax3.plot(time,F_cleat, 'r-', label = \"F_cleat\")\n",
    "# ax3.plot(time,F_actuator)\n",
    "ax3.plot(time,F_inertia, label = \"F_inertia\")\n",
    "ax3.plot(time,F_actuator, label = \"F_actuator\")\n",
    "ax3.legend()\n",
    "\n",
    "ax4.plot(time,P)\n",
    "ax4.set_title(\"Pressure\")\n",
    "ax4.set_ylabel(\"pressure (Pa)\")\n",
    "\n",
    "ax5.plot(time,V,'y-')\n",
    "ax5.set_title(\"Volume\")\n",
    "ax5.set_ylabel(\"volume (m^3)\")\n",
    "\n",
    "fig.subplots_adjust(hspace=.5, right=.6, top = .95, bottom = .05)"
   ]
  },
  {
   "cell_type": "code",
   "execution_count": 94,
   "metadata": {},
   "outputs": [
    {
     "name": "stdout",
     "output_type": "stream",
     "text": [
      "eqn 1:\n",
      "treat q as friction and r as a term that accounts for soil gliding\n"
     ]
    },
    {
     "data": {
      "image/png": "[encoded data removed]",
      "text/latex": [
       "$\\displaystyle - b v{\\left(t \\right)} - m \\frac{d}{d t} v{\\left(t \\right)} - q + F{\\left(t \\right)}$"
      ],
      "text/plain": [
       "            d                  \n",
       "-b⋅v(t) - m⋅──(v(t)) - q + F(t)\n",
       "            dt                 "
      ]
     },
     "metadata": {},
     "output_type": "display_data"
    },
    {
     "name": "stdout",
     "output_type": "stream",
     "text": [
      "eqn 8.2:\n"
     ]
    },
    {
     "data": {
      "image/png": "[encoded data removed]",
      "text/latex": [
       "$\\displaystyle \\frac{A_{bore} K_{a}}{A_{bore} \\int v{\\left(t \\right)}\\, dt + Vo} - b v{\\left(t \\right)} - m \\frac{d}{d t} v{\\left(t \\right)} - q$"
      ],
      "text/plain": [
       "      A_bore⋅Kₐ                    d           \n",
       "───────────────────── - b⋅v(t) - m⋅──(v(t)) - q\n",
       "       ⌠                           dt          \n",
       "A_bore⋅⎮ v(t) dt + Vo                          \n",
       "       ⌡                                       "
      ]
     },
     "metadata": {},
     "output_type": "display_data"
    },
    {
     "name": "stdout",
     "output_type": "stream",
     "text": [
      "eqn 9.2:\n"
     ]
    },
    {
     "data": {
      "image/png": "[encoded data removed]",
      "text/latex": [
       "$\\displaystyle \\frac{A_{bore} K_{a}}{A_{bore} x{\\left(t \\right)} + Vo} - b \\frac{d}{d t} x{\\left(t \\right)} - m \\frac{d^{2}}{d t^{2}} x{\\left(t \\right)} - q$"
      ],
      "text/plain": [
       "                                    2          \n",
       "   A_bore⋅Kₐ         d             d           \n",
       "──────────────── - b⋅──(x(t)) - m⋅───(x(t)) - q\n",
       "A_bore⋅x(t) + Vo     dt             2          \n",
       "                                  dt           "
      ]
     },
     "metadata": {},
     "output_type": "display_data"
    },
    {
     "name": "stdout",
     "output_type": "stream",
     "text": [
      "eqn 13.2:\n"
     ]
    },
    {
     "data": {
      "image/png": "[encoded data removed]",
      "text/latex": [
       "$\\displaystyle \\frac{A_{bore} K_{a} - A_{bore} b x{\\left(t \\right)} \\frac{d}{d t} x{\\left(t \\right)} - A_{bore} q x{\\left(t \\right)} - Vo b \\frac{d}{d t} x{\\left(t \\right)} - Vo q}{m \\left(A_{bore} x{\\left(t \\right)} + Vo\\right)}$"
      ],
      "text/plain": [
       "                          d                               d              \n",
       "A_bore⋅Kₐ - A_bore⋅b⋅x(t)⋅──(x(t)) - A_bore⋅q⋅x(t) - Vo⋅b⋅──(x(t)) - Vo⋅q\n",
       "                          dt                              dt             \n",
       "─────────────────────────────────────────────────────────────────────────\n",
       "                           m⋅(A_bore⋅x(t) + Vo)                          "
      ]
     },
     "metadata": {},
     "output_type": "display_data"
    }
   ],
   "source": [
    "\"\"\"redefine equation 1 to be a different soil model\"\"\"\n",
    "\n",
    "'''Apply Newtons 2nd Law to mass'''\n",
    "v, F = sym.symbols('v F', cls=sym.Function)\n",
    "#Apply Newtons law to the mass\n",
    "m, b, t, q = sym.symbols('m b t q')\n",
    "\n",
    "print('eqn 1:')\n",
    "print(\"treat q as friction and r as a term that accounts for soil gliding\")\n",
    "eqn1 = F(t) - q - b*v(t) - sym.Derivative(v(t),t)*m\n",
    "display(eqn1)\n",
    "\n",
    "#rewrite equation 8\n",
    "#sub 7 into 1\n",
    "print('eqn 8.2:')\n",
    "eqn8 = eqn1.subs({F(t):sym.solve(eqn7,F(t))[0]})\n",
    "display(eqn8)\n",
    "\n",
    "#write in terms of x(t)\n",
    "x = sym.symbols('x', cls=sym.Function)\n",
    "\n",
    "print('eqn 9.2:')\n",
    "eqn9 = eqn8.subs({sym.Integral(v(t),t):x(t), v(t): sym.Derivative(x(t),t)})  \n",
    "display(eqn9)\n",
    "\n",
    "#I actually want to see where A_bore and Vo end up in this form\n",
    "print('eqn 13.2:')\n",
    "eqn13 = sym.solve(eqn9, sym.Derivative(x(t),t,t))[0]\n",
    "display(eqn13)\n",
    "\n"
   ]
  },
  {
   "cell_type": "code",
   "execution_count": 123,
   "metadata": {},
   "outputs": [
    {
     "name": "stdout",
     "output_type": "stream",
     "text": [
      "your pressure and volume changed 0.94 percent\n"
     ]
    }
   ],
   "source": [
    "#postprocess\n",
    "\n",
    "deltaP = ((max(P)-min(P))/max(P)*100)\n",
    "deltaV = ((max(V)-min(V))/max(V)*100)\n",
    "print(\"your pressure and volume changed {:.2f} percent\".format(deltaP))"
   ]
  }
 ],
 "metadata": {
  "kernelspec": {
   "display_name": "Python 3",
   "language": "python",
   "name": "python3"
  },
  "language_info": {
   "codemirror_mode": {
    "name": "ipython",
    "version": 3
   },
   "file_extension": ".py",
   "mimetype": "text/x-python",
   "name": "python",
   "nbconvert_exporter": "python",
   "pygments_lexer": "ipython3",
   "version": "3.7.4"
  }
 },
 "nbformat": 4,
 "nbformat_minor": 2
}
