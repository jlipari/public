{
 "cells": [
  {
   "cell_type": "markdown",
   "metadata": {},
   "source": [
    "<img src=\"pneumatic model.png\">"
   ]
  },
  {
   "cell_type": "code",
   "execution_count": 1,
   "metadata": {},
   "outputs": [
    {
     "name": "stdout",
     "output_type": "stream",
     "text": [
      "eqn 1:\n"
     ]
    },
    {
     "data": {
      "image/png": "[encoded data removed]",
      "text/latex": [
       "$\\displaystyle - b v{\\left(t \\right)} - m \\frac{d}{d t} v{\\left(t \\right)} + F{\\left(t \\right)}$"
      ],
      "text/plain": [
       "            d              \n",
       "-b⋅v(t) - m⋅──(v(t)) + F(t)\n",
       "            dt             "
      ]
     },
     "metadata": {},
     "output_type": "display_data"
    },
    {
     "name": "stdout",
     "output_type": "stream",
     "text": [
      "analytical solution:\n"
     ]
    },
    {
     "data": {
      "image/png": "[encoded data removed]",
      "text/latex": [
       "$\\displaystyle v{\\left(t \\right)} = \\left(C_{1} + \\frac{\\int F{\\left(t \\right)} e^{\\frac{b t}{m}}\\, dt}{m}\\right) e^{- \\frac{b t}{m}}$"
      ],
      "text/plain": [
       "       ⎛     ⌠             ⎞       \n",
       "       ⎜     ⎮       b⋅t   ⎟       \n",
       "       ⎜     ⎮       ───   ⎟       \n",
       "       ⎜     ⎮        m    ⎟  -b⋅t \n",
       "       ⎜     ⎮ F(t)⋅ℯ    dt⎟  ─────\n",
       "       ⎜     ⌡             ⎟    m  \n",
       "v(t) = ⎜C₁ + ──────────────⎟⋅ℯ     \n",
       "       ⎝           m       ⎠       "
      ]
     },
     "execution_count": 1,
     "metadata": {},
     "output_type": "execute_result"
    }
   ],
   "source": [
    "import sympy as sym\n",
    "sym.init_printing()\n",
    "\n",
    "'''Apply Newtons 2nd Law to mass'''\n",
    "v, F = sym.symbols('v F', cls=sym.Function)\n",
    "#Apply Newtons law to the mass\n",
    "m, b, t = sym.symbols('m b t')\n",
    "# b = sym.symbols('b')\n",
    "\n",
    "print('eqn 1:')\n",
    "eqn1 = F(t) - b*v(t) - sym.Derivative(v(t),t)*m\n",
    "display(eqn1)\n",
    "\n",
    "print('analytical solution:')\n",
    "sym.dsolve(eqn1, v(t))"
   ]
  },
  {
   "cell_type": "code",
   "execution_count": 2,
   "metadata": {},
   "outputs": [
    {
     "name": "stdout",
     "output_type": "stream",
     "text": [
      "ideal gas law\n"
     ]
    },
    {
     "data": {
      "image/png": "[encoded data removed]",
      "text/latex": [
       "$\\displaystyle - T n r + P{\\left(t \\right)} V{\\left(t \\right)}$"
      ],
      "text/plain": [
       "-T⋅n⋅r + P(t)⋅V(t)"
      ]
     },
     "metadata": {},
     "output_type": "display_data"
    },
    {
     "name": "stdout",
     "output_type": "stream",
     "text": [
      "eqn 2 (assume adibatic):\n"
     ]
    },
    {
     "data": {
      "image/png": "[encoded data removed]",
      "text/latex": [
       "$\\displaystyle - K_{a} + P{\\left(t \\right)} V{\\left(t \\right)}$"
      ],
      "text/plain": [
       "-Kₐ + P(t)⋅V(t)"
      ]
     },
     "metadata": {},
     "output_type": "display_data"
    },
    {
     "name": "stdout",
     "output_type": "stream",
     "text": [
      "eqn 3:\n"
     ]
    },
    {
     "data": {
      "image/png": "[encoded data removed]",
      "text/latex": [
       "$\\displaystyle - A_{bore} v{\\left(t \\right)} + \\frac{d}{d t} V{\\left(t \\right)}$"
      ],
      "text/plain": [
       "               d       \n",
       "-A_bore⋅v(t) + ──(V(t))\n",
       "               dt      "
      ]
     },
     "metadata": {},
     "output_type": "display_data"
    },
    {
     "name": "stdout",
     "output_type": "stream",
     "text": [
      "eqn 4:\n"
     ]
    },
    {
     "data": {
      "image/png": "[encoded data removed]",
      "text/latex": [
       "$\\displaystyle - A_{bore} P{\\left(t \\right)} + F{\\left(t \\right)}$"
      ],
      "text/plain": [
       "-A_bore⋅P(t) + F(t)"
      ]
     },
     "metadata": {},
     "output_type": "display_data"
    }
   ],
   "source": [
    "'''write F(t) as a function of velocity\n",
    "write out base equations'''\n",
    "\n",
    "n,r,T = sym.symbols('n, r, T')\n",
    "V, P = sym.symbols('V, P', cls=sym.Function)\n",
    "print(\"ideal gas law\")\n",
    "display(P(t)*V(t) -n*r*T)\n",
    "K_a = sym.symbols('K_a')\n",
    "print('eqn 2 (assume adibatic):')\n",
    "eqn2 = (P(t)*V(t)-K_a)\n",
    "display(eqn2)\n",
    "\n",
    "#Actuator volume\n",
    "A_bore = sym.symbols('A_bore')\n",
    "print('eqn 3:')\n",
    "eqn3 = sym.Derivative(V(t),t) - v(t)*A_bore\n",
    "display(eqn3)\n",
    "\n",
    "#Actuator force\n",
    "print('eqn 4:')\n",
    "eqn4 = F(t) - P(t)*A_bore\n",
    "display(eqn4)"
   ]
  },
  {
   "cell_type": "code",
   "execution_count": 3,
   "metadata": {},
   "outputs": [
    {
     "name": "stdout",
     "output_type": "stream",
     "text": [
      "eqn 5:\n"
     ]
    },
    {
     "data": {
      "image/png": "[encoded data removed]",
      "text/latex": [
       "$\\displaystyle - \\frac{A_{bore} K_{a}}{V{\\left(t \\right)}} + F{\\left(t \\right)}$"
      ],
      "text/plain": [
       "  A_bore⋅Kₐ       \n",
       "- ───────── + F(t)\n",
       "     V(t)         "
      ]
     },
     "metadata": {},
     "output_type": "display_data"
    },
    {
     "name": "stdout",
     "output_type": "stream",
     "text": [
      "eqn 6:\n"
     ]
    },
    {
     "data": {
      "image/png": "[encoded data removed]",
      "text/latex": [
       "$\\displaystyle - A_{bore} \\int v{\\left(t \\right)}\\, dt - Vo + V{\\left(t \\right)}$"
      ],
      "text/plain": [
       "         ⌠                    \n",
       "- A_bore⋅⎮ v(t) dt - Vo + V(t)\n",
       "         ⌡                    "
      ]
     },
     "metadata": {},
     "output_type": "display_data"
    },
    {
     "name": "stdout",
     "output_type": "stream",
     "text": [
      "eqn 7:\n"
     ]
    },
    {
     "data": {
      "image/png": "[encoded data removed]",
      "text/latex": [
       "$\\displaystyle - \\frac{A_{bore} K_{a}}{A_{bore} \\int v{\\left(t \\right)}\\, dt + Vo} + F{\\left(t \\right)}$"
      ],
      "text/plain": [
       "        A_bore⋅Kₐ             \n",
       "- ───────────────────── + F(t)\n",
       "         ⌠                    \n",
       "  A_bore⋅⎮ v(t) dt + Vo       \n",
       "         ⌡                    "
      ]
     },
     "metadata": {},
     "output_type": "display_data"
    },
    {
     "name": "stdout",
     "output_type": "stream",
     "text": [
      "eqn 8:\n"
     ]
    },
    {
     "data": {
      "image/png": "[encoded data removed]",
      "text/latex": [
       "$\\displaystyle \\frac{A_{bore} K_{a}}{A_{bore} \\int v{\\left(t \\right)}\\, dt + Vo} - b v{\\left(t \\right)} - m \\frac{d}{d t} v{\\left(t \\right)}$"
      ],
      "text/plain": [
       "      A_bore⋅Kₐ                    d       \n",
       "───────────────────── - b⋅v(t) - m⋅──(v(t))\n",
       "       ⌠                           dt      \n",
       "A_bore⋅⎮ v(t) dt + Vo                      \n",
       "       ⌡                                   "
      ]
     },
     "metadata": {},
     "output_type": "display_data"
    },
    {
     "name": "stdout",
     "output_type": "stream",
     "text": [
      "eqn 9:\n"
     ]
    },
    {
     "data": {
      "image/png": "[encoded data removed]",
      "text/latex": [
       "$\\displaystyle \\frac{A_{bore} K_{a}}{A_{bore} x{\\left(t \\right)} + Vo} - b \\frac{d}{d t} x{\\left(t \\right)} - m \\frac{d^{2}}{d t^{2}} x{\\left(t \\right)}$"
      ],
      "text/plain": [
       "                                    2      \n",
       "   A_bore⋅Kₐ         d             d       \n",
       "──────────────── - b⋅──(x(t)) - m⋅───(x(t))\n",
       "A_bore⋅x(t) + Vo     dt             2      \n",
       "                                  dt       "
      ]
     },
     "metadata": {},
     "output_type": "display_data"
    }
   ],
   "source": [
    "'''we want F(t) in our original equation to be in terms of v(t)'''\n",
    "\n",
    "#sub 2 into 4\"\n",
    "print('eqn 5:')\n",
    "eqn5 = eqn4.subs({P(t):sym.solve(eqn2,P(t))[0]})\n",
    "display(eqn5)\n",
    "\n",
    "#integrate 3\n",
    "#tank initial Volume\n",
    "Vo = sym.symbols('Vo')\n",
    "#actuator initial position, but we'll zero it out\n",
    "xo = sym.symbols('xo')\n",
    "print('eqn 6:')\n",
    "#I'm skeptical. Why aren't we seeing V(t) = Vo + A*x(t)?\n",
    "\"\"\"manually fix\"\"\"\n",
    "eqn6 = -A_bore*sym.Integral(v(t),t) + V(t) -Vo\n",
    "display(eqn6)\n",
    "\n",
    "#sub 6 into 5\n",
    "print('eqn 7:')\n",
    "eqn7 = eqn5.subs({V(t):sym.solve(eqn6,V(t))[0]})\n",
    "display(eqn7)\n",
    "sol = (sym.solve(eqn7, F(t))[0])\n",
    "\n",
    "#sub 7 into 1\n",
    "print('eqn 8:')\n",
    "eqn8 = eqn1.subs({F(t):sym.solve(eqn7,F(t))[0]})\n",
    "display(eqn8)\n",
    "\n",
    "#write in terms of x(t)\n",
    "x = sym.symbols('x', cls=sym.Function)\n",
    "\n",
    "print('eqn 9:')\n",
    "eqn9 = eqn8.subs({sym.Integral(v(t),t):x(t), v(t): sym.Derivative(x(t),t)})  \n",
    "display(eqn9)"
   ]
  },
  {
   "cell_type": "code",
   "execution_count": 4,
   "metadata": {},
   "outputs": [
    {
     "name": "stdout",
     "output_type": "stream",
     "text": [
      "---------------------------Just showing standard form--------------------------------\n",
      "eqn 10:\n"
     ]
    },
    {
     "data": {
      "image/png": "[encoded data removed]",
      "text/latex": [
       "$\\displaystyle \\frac{K_{a}}{\\alpha + x{\\left(t \\right)}} - b \\frac{d}{d t} x{\\left(t \\right)} - m \\frac{d^{2}}{d t^{2}} x{\\left(t \\right)}$"
      ],
      "text/plain": [
       "                            2      \n",
       "   Kₐ        d             d       \n",
       "──────── - b⋅──(x(t)) - m⋅───(x(t))\n",
       "α + x(t)     dt             2      \n",
       "                          dt       "
      ]
     },
     "metadata": {},
     "output_type": "display_data"
    },
    {
     "name": "stdout",
     "output_type": "stream",
     "text": [
      "eqn 11:\n"
     ]
    },
    {
     "data": {
      "image/png": "[encoded data removed]",
      "text/latex": [
       "$\\displaystyle K_{a} - \\left(\\alpha + x{\\left(t \\right)}\\right) \\left(b \\frac{d}{d t} x{\\left(t \\right)} + m \\frac{d^{2}}{d t^{2}} x{\\left(t \\right)}\\right)$"
      ],
      "text/plain": [
       "                ⎛                 2      ⎞\n",
       "                ⎜  d             d       ⎟\n",
       "Kₐ - (α + x(t))⋅⎜b⋅──(x(t)) + m⋅───(x(t))⎟\n",
       "                ⎜  dt             2      ⎟\n",
       "                ⎝               dt       ⎠"
      ]
     },
     "metadata": {},
     "output_type": "display_data"
    },
    {
     "name": "stdout",
     "output_type": "stream",
     "text": [
      "eqn 12:\n"
     ]
    },
    {
     "data": {
      "image/png": "[encoded data removed]",
      "text/latex": [
       "$\\displaystyle \\frac{K_{a} - \\alpha b \\frac{d}{d t} x{\\left(t \\right)} - b x{\\left(t \\right)} \\frac{d}{d t} x{\\left(t \\right)}}{m \\left(\\alpha + x{\\left(t \\right)}\\right)}$"
      ],
      "text/plain": [
       "         d                 d       \n",
       "Kₐ - α⋅b⋅──(x(t)) - b⋅x(t)⋅──(x(t))\n",
       "         dt                dt      \n",
       "───────────────────────────────────\n",
       "            m⋅(α + x(t))           "
      ]
     },
     "metadata": {},
     "output_type": "display_data"
    },
    {
     "name": "stdout",
     "output_type": "stream",
     "text": [
      "---------------------------Just showing standard form--------------------------------\n",
      "eqn 13:\n"
     ]
    },
    {
     "data": {
      "image/png": "[encoded data removed]",
      "text/latex": [
       "$\\displaystyle \\frac{A_{bore} K_{a} - A_{bore} b x{\\left(t \\right)} \\frac{d}{d t} x{\\left(t \\right)} - Vo b \\frac{d}{d t} x{\\left(t \\right)}}{m \\left(A_{bore} x{\\left(t \\right)} + Vo\\right)}$"
      ],
      "text/plain": [
       "                          d               d       \n",
       "A_bore⋅Kₐ - A_bore⋅b⋅x(t)⋅──(x(t)) - Vo⋅b⋅──(x(t))\n",
       "                          dt              dt      \n",
       "──────────────────────────────────────────────────\n",
       "               m⋅(A_bore⋅x(t) + Vo)               "
      ]
     },
     "metadata": {},
     "output_type": "display_data"
    }
   ],
   "source": [
    "'''get eqn in standard form'''\n",
    "print(\"---------------------------Just showing standard form--------------------------------\")\n",
    "#take alpha = -Vo/A\n",
    "alpha = sym.symbols('alpha')\n",
    "eqn10 = K_a/(x(t)+alpha) - b*sym.Derivative(x(t),t)-m*sym.Derivative(x(t),t,t)\n",
    "print('eqn 10:')\n",
    "display(eqn10)\n",
    "\n",
    "#multiply through to coerce function into standard form\n",
    "eqn11 = eqn10*(alpha+x(t))\n",
    "print('eqn 11:')\n",
    "display(sym.simplify(eqn11))\n",
    "\n",
    "#solve eqn11 in terms of the double derivative\n",
    "print('eqn 12:')\n",
    "eqn12 = sym.solve(eqn11, sym.Derivative(x(t),t,t))[0]\n",
    "display(eqn12)\n",
    "print(\"---------------------------Just showing standard form--------------------------------\")\n",
    "\n",
    "#I actually want to see where A_bore and Vo end up in this form\n",
    "print('eqn 13:')\n",
    "eqn13 = sym.solve(eqn9, sym.Derivative(x(t),t,t))[0]\n",
    "display(eqn13)"
   ]
  },
  {
   "cell_type": "code",
   "execution_count": 5,
   "metadata": {},
   "outputs": [
    {
     "data": {
      "text/plain": [
       "'calcs on existing system to determine variables'"
      ]
     },
     "execution_count": 5,
     "metadata": {},
     "output_type": "execute_result"
    }
   ],
   "source": [
    "'''calcs on existing system to determine variables'''\n",
    "# from pint import UnitRegistry\n",
    "# ureg = UnitRegistry()\n",
    "# #calculate the a constant\n",
    "# D_tank = 2.5*12\n",
    "# L_tank = 4*12\n",
    "# V_tank = D_tank**2*np.pi/4*L_tank*ureg.inch**3\n",
    "# V_tank.to(ureg.meter**3)\n",
    "# P_tank = 100*ureg.lbf/ureg.inch**2\n",
    "# P_tank.to(ureg.newton/ureg.meter**2)\n",
    "# K_tank = P_tank*V_tank\n",
    "# print(\"a constant\")\n",
    "# display(K_tank)\n"
   ]
  },
  {
   "cell_type": "code",
   "execution_count": 55,
   "metadata": {},
   "outputs": [
    {
     "name": "stdout",
     "output_type": "stream",
     "text": [
      "0.0\n",
      "2.1901789640312514e-05\n",
      "2.1901789640312514e-05\n",
      "4.380357927113595e-05\n",
      "4.3803579266391406e-05\n",
      "0.005287185757665563\n",
      "0.005287169482316166\n",
      "0.010530502290813436\n",
      "0.010530469740318151\n",
      "0.015773671803180678\n",
      "0.015773639253143436\n",
      "0.06818550325841449\n",
      "0.06818414831058725\n",
      "0.04104367865558464\n",
      "0.041043363613426476\n",
      "0.020828183983392964\n",
      "0.02082817137890391\n",
      "0.02588244803355893\n",
      "0.0258824606394972\n",
      "0.03093645123101218\n",
      "0.030936451232111636\n",
      "0.035990084835437156\n",
      "0.035990084836996554\n",
      "0.046096047812636175\n",
      "0.04609604782635639\n",
      "0.056199883110015725\n",
      "0.056199883142334664\n",
      "0.06630112437809663\n",
      "0.06630112441976424\n",
      "0.07639930535879576\n",
      "0.0763993054094327\n",
      "0.09337644586198231\n",
      "0.09337644613888327\n",
      "0.11034139257838105\n",
      "0.11034139313226955\n",
      "0.12729193033050368\n",
      "0.12729193100415503\n",
      "0.14422584541512684\n",
      "0.14422584620919168\n",
      "0.1808845816162311\n",
      "0.18088459105791072\n",
      "0.2174322108294496\n",
      "0.2174322336523461\n",
      "0.25384629808611425\n",
      "0.25384632699429527\n",
      "0.2901044688541865\n",
      "0.2901045035107108\n",
      "0.3466809655359183\n",
      "0.34668107064569365\n",
      "0.4027324604773725\n",
      "0.4027324612213818\n",
      "0.4581737194501494\n",
      "0.4581737342799918\n",
      "0.5129208638883243\n",
      "0.5129209110509145\n",
      "0.5668910110167877\n",
      "0.5668910590336558\n",
      "0.5836345409472062\n",
      "0.5836345438383277\n",
      "0.6002911512560115\n",
      "0.6002911551026556\n",
      "0.6168584076863747\n",
      "0.6168584130817226\n",
      "0.633333846156113\n",
      "0.6333338517106077\n",
      "0.6884135207759742\n",
      "0.6884136442511022\n",
      "0.742318395319249\n",
      "0.7423184049931659\n",
      "0.794956146358053\n",
      "0.7949561316472727\n",
      "0.8462369133661705\n",
      "0.8462369709340833\n",
      "0.896073342618901\n",
      "0.896073400211277\n",
      "0.933532364629362\n",
      "0.9335323903858064\n",
      "0.9700402748168815\n",
      "0.9700402851741927\n",
      "1.0055598735622042\n",
      "1.0055598889851554\n",
      "1.0400549997391841\n",
      "1.0400550138937132\n",
      "1.0734905020942112\n",
      "1.0734905158760109\n",
      "1.1505669085511139\n",
      "1.1505671203380716\n",
      "1.22063905995798\n",
      "1.2206392083349547\n",
      "1.283280731662149\n",
      "1.2832802646627215\n",
      "1.3381090876008825\n",
      "1.3381089546036113\n",
      "1.3847915676211628\n",
      "1.3847914651240085\n",
      "1.4230437040091692\n",
      "1.4230436058457316\n",
      "1.4644119081373772\n",
      "1.4648179786921107\n",
      "1.4540514144205838\n",
      "1.4540512857798755\n",
      "1.4751719616427796\n",
      "1.4774478176194494\n",
      "1.4700169143387782\n",
      "1.470970256728884\n",
      "1.4576418321212286\n",
      "1.4576418330150778\n",
      "1.461034104050107\n",
      "1.4610341139021257\n",
      "1.4642276537980838\n",
      "1.4642734075056107\n",
      "1.4634477025817278\n",
      "1.4634701720701833\n",
      "1.4614726103448956\n",
      "1.461472610157776\n",
      "1.461907553399357\n",
      "1.4619075528663044\n",
      "1.4623389415107497\n",
      "1.4623389409819803\n",
      "1.463191050449617\n",
      "1.463195935753668\n",
      "1.4631910518539082\n",
      "1.4631969121123198\n",
      "1.4625105007966632\n",
      "1.462510536473764\n",
      "1.4626816344983047\n",
      "1.4626818829149049\n",
      "1.4626475339660288\n",
      "1.462647693137029\n",
      "1.462784849395425\n",
      "1.462784849395406\n",
      "1.4629220052488765\n",
      "1.4629220052488578\n",
      "1.4631963157408785\n",
      "1.4631963157408472\n",
      "1.4634706246126472\n",
      "1.4634706246126785\n",
      "1.4637449318640576\n",
      "1.4640192374946843\n",
      "1.46676220459353\n",
      "1.46950500928695\n",
      "1.469505009286964\n",
      "1.472247651274829\n",
      "1.4722476512748448\n",
      "1.4749901302570678\n",
      "1.4749901302570836\n",
      "1.502405888768961\n",
      "1.5024058887766958\n",
      "1.5298050169124067\n",
      "1.529805016912958\n",
      "1.557187215214871\n",
      "1.5571872152107435\n",
      "1.5845521846032113\n",
      "1.5845521846057204\n",
      "1.611899626432072\n",
      "1.6118996264345844\n",
      "1.8843446169010851\n",
      "1.884344623705038\n",
      "2.1547115436703894\n",
      "2.154711557219667\n",
      "2.4227094209852593\n",
      "2.422709394982951\n",
      "2.6880525250092315\n",
      "2.6880525106349427\n",
      "2.9504612946248776\n",
      "2.9504612839682087\n",
      "3.2096626776795443\n",
      "3.2096626661882133\n",
      "3.7355881042678662\n",
      "3.735587949488477\n",
      "4.244337609130301\n",
      "4.244337196276213\n",
      "4.733805199819728\n",
      "4.733805405835685\n",
      "[[0.00000000e+00 0.00000000e+00]\n",
      " [1.83989984e-04 1.81922482e-01]\n",
      " [7.33200199e-04 3.61115723e-01]\n",
      " [1.63939318e-03 5.34891354e-01]\n",
      " [2.88897115e-03 7.00642354e-01]\n",
      " [4.46318946e-03 8.55882033e-01]\n",
      " [6.33842988e-03 9.98281444e-01]\n",
      " [8.48655996e-03 1.12570427e+00]\n",
      " [1.08753519e-02 1.23623881e+00]\n",
      " [1.34689687e-02 1.32822685e+00]\n",
      " [1.62284998e-02 1.40028835e+00]\n",
      " [1.91125459e-02 1.45134220e+00]\n",
      " [2.20803665e-02 1.48600140e+00]\n",
      " [2.51163731e-02 1.51964092e+00]\n",
      " [2.82203128e-02 1.55325510e+00]\n",
      " [3.13921338e-02 1.58684339e+00]\n",
      " [3.46317834e-02 1.62040524e+00]\n",
      " [3.79392075e-02 1.65394010e+00]\n",
      " [4.13143511e-02 1.68744741e+00]\n",
      " [4.47571580e-02 1.72092662e+00]\n",
      " [4.82675708e-02 1.75437720e+00]\n",
      " [5.18455311e-02 1.78779858e+00]\n",
      " [5.54909795e-02 1.82119023e+00]\n",
      " [5.92038552e-02 1.85455160e+00]\n",
      " [6.29840965e-02 1.88788214e+00]\n",
      " [6.68316407e-02 1.92118130e+00]\n",
      " [7.07464237e-02 1.95444856e+00]\n",
      " [7.47283807e-02 1.98768337e+00]\n",
      " [7.87774454e-02 2.02088518e+00]\n",
      " [8.28935508e-02 2.05405346e+00]\n",
      " [8.70766284e-02 2.08718767e+00]\n",
      " [9.13266090e-02 2.12028727e+00]\n",
      " [9.56434220e-02 2.15335174e+00]\n",
      " [1.00026996e-01 2.18638053e+00]\n",
      " [1.04477258e-01 2.21937311e+00]\n",
      " [1.08994135e-01 2.25232895e+00]\n",
      " [1.13577552e-01 2.28524752e+00]\n",
      " [1.18227433e-01 2.31812829e+00]\n",
      " [1.22943701e-01 2.35097074e+00]\n",
      " [1.27726279e-01 2.38377433e+00]\n",
      " [1.32575086e-01 2.41653854e+00]\n",
      " [1.37490044e-01 2.44926285e+00]\n",
      " [1.42471071e-01 2.48194674e+00]\n",
      " [1.47518084e-01 2.51458968e+00]\n",
      " [1.52631001e-01 2.54719115e+00]\n",
      " [1.57809737e-01 2.57975064e+00]\n",
      " [1.63054208e-01 2.61226764e+00]\n",
      " [1.68364325e-01 2.64474161e+00]\n",
      " [1.73740003e-01 2.67717205e+00]\n",
      " [1.79181152e-01 2.70955846e+00]\n",
      " [1.84687684e-01 2.74190031e+00]\n",
      " [1.90259507e-01 2.77419709e+00]\n",
      " [1.95896530e-01 2.80644831e+00]\n",
      " [2.01598661e-01 2.83865345e+00]\n",
      " [2.07365806e-01 2.87081200e+00]\n",
      " [2.13197870e-01 2.90292348e+00]\n",
      " [2.19094758e-01 2.93498736e+00]\n",
      " [2.25056372e-01 2.96700316e+00]\n",
      " [2.31082617e-01 2.99897037e+00]\n",
      " [2.37173391e-01 3.03088850e+00]\n",
      " [2.43328597e-01 3.06275705e+00]\n",
      " [2.49548134e-01 3.09457553e+00]\n",
      " [2.55831899e-01 3.12634345e+00]\n",
      " [2.62179790e-01 3.15806031e+00]\n",
      " [2.68591704e-01 3.18972563e+00]\n",
      " [2.75067535e-01 3.22133892e+00]\n",
      " [2.81607179e-01 3.25289970e+00]\n",
      " [2.88210529e-01 3.28440748e+00]\n",
      " [2.94877477e-01 3.31586178e+00]\n",
      " [3.01607914e-01 3.34726212e+00]\n",
      " [3.08401732e-01 3.37860802e+00]\n",
      " [3.15258820e-01 3.40989900e+00]\n",
      " [3.22179065e-01 3.44113460e+00]\n",
      " [3.29162357e-01 3.47231434e+00]\n",
      " [3.36208581e-01 3.50343774e+00]\n",
      " [3.43317624e-01 3.53450434e+00]\n",
      " [3.50489369e-01 3.56551367e+00]\n",
      " [3.57723702e-01 3.59646527e+00]\n",
      " [3.65020504e-01 3.62735867e+00]\n",
      " [3.72379658e-01 3.65819342e+00]\n",
      " [3.79801044e-01 3.68896904e+00]\n",
      " [3.87284544e-01 3.71968508e+00]\n",
      " [3.94830035e-01 3.75034110e+00]\n",
      " [4.02437396e-01 3.78093662e+00]\n",
      " [4.10106505e-01 3.81147121e+00]\n",
      " [4.17837238e-01 3.84194440e+00]\n",
      " [4.25629471e-01 3.87235576e+00]\n",
      " [4.33483078e-01 3.90270484e+00]\n",
      " [4.41397933e-01 3.93299118e+00]\n",
      " [4.49373908e-01 3.96321436e+00]\n",
      " [4.57410876e-01 3.99337392e+00]\n",
      " [4.65508708e-01 4.02346944e+00]\n",
      " [4.73667274e-01 4.05350047e+00]\n",
      " [4.81886443e-01 4.08346658e+00]\n",
      " [4.90166084e-01 4.11336733e+00]\n",
      " [4.98506064e-01 4.14320231e+00]\n",
      " [5.06906250e-01 4.17297107e+00]\n",
      " [5.15366507e-01 4.20267320e+00]\n",
      " [5.23886702e-01 4.23230826e+00]\n",
      " [5.32466697e-01 4.26187585e+00]]\n",
      "you've gotten to 266.2 percent of your target distance\n"
     ]
    }
   ],
   "source": [
    "'''solve numerically.\n",
    "v(t) = x'(t)\n",
    "'''\n",
    "# %matplotlib inline\n",
    "%matplotlib qt \n",
    "\n",
    "from scipy.integrate import odeint\n",
    "import numpy as np\n",
    "\n",
    "N_lbf = 4.44\n",
    "in_m = 39.37\n",
    "\n",
    "Vo = 0.118 #m^3, changed the revolve and measured in solidworks\n",
    "Po = 100.0*N_lbf*in_m**2\n",
    "K_a = Vo*Po\n",
    "D_bore = 3.25 #inch\n",
    "A_bore = (D_bore/in_m/2)**2*np.pi\n",
    "b = 0 #500 matched well\n",
    "m = 40.8 #kg, from biocore\n",
    "alpha = -Vo/A_bore\n",
    "q = 1000 #1000 matched well. y-intercept for soil\n",
    "\n",
    "#attempting to use mohr coulomb soil model\n",
    "#distance in meters\n",
    "x_knee = .02\n",
    "#force in Newtons\n",
    "y_knee = 3000\n",
    "\n",
    "def model(x,t):\n",
    "    y = x[0]\n",
    "    dy = x[1]\n",
    "    xdot = [[],[]]\n",
    "    xdot[0] = dy\n",
    "\n",
    "    #soil model with slope and intercept viscous damper\n",
    "#     xdot[1] = (A_bore*K_a-A_bore*b*y*dy-A_bore*q*y-Vo*b*dy-Vo*q)/(m*(A_bore*y+Vo))\n",
    "\n",
    "#mohr couloumb model\n",
    "    if y < x_knee:\n",
    "        xdot[1] = (A_bore*K_a*x_knee-A_bore*y_knee*y**2-Vo*y_knee*y)/(m*x_knee*(A_bore*y+Vo))\n",
    "    else:\n",
    "        xdot[1] = (A_bore*K_a-A_bore*y_knee*y-Vo*y_knee)/(m*(A_bore*y+Vo))\n",
    "#     print(\"at time {:.3f} we have\".format(t))\n",
    "    print(dy)\n",
    "    return xdot\n",
    "time = np.linspace(0,.2,100)\n",
    "z2 = odeint(model, [0,0],time)\n",
    "# print(time)\n",
    "print(z2)\n",
    "x_goal = max(z2[:,0])/.2*100\n",
    "\n",
    "print(\"you've gotten to {:.1f} percent of your target distance\".format(x_goal))"
   ]
  },
  {
   "cell_type": "code",
   "execution_count": 56,
   "metadata": {},
   "outputs": [
    {
     "name": "stdout",
     "output_type": "stream",
     "text": [
      "you reached 200mm in 0.11 seconds\n"
     ]
    }
   ],
   "source": [
    "\"\"\"postprocess results\"\"\"\n",
    "V = []\n",
    "F_cleat = []\n",
    "F_actuator = []\n",
    "F_inertia = []\n",
    "F_actuator2 = []\n",
    "P = []\n",
    "PtimesV = []\n",
    "a = []\n",
    "t_impact = []\n",
    "\n",
    "for index, i in enumerate(z2):\n",
    "    x = i[0]\n",
    "    v = i[1]\n",
    "\n",
    "#slope intercept viscous damper\n",
    "#     ai = (A_bore*K_a-A_bore*b*x*v-A_bore*q*x-Vo*b*v-Vo*q)/(m*(A_bore*x+Vo))\n",
    "    if x < x_knee:\n",
    "        ai = (A_bore*K_a*x_knee-A_bore*y_knee*x**2-Vo*y_knee*x)/(m*x_knee*(A_bore*x+Vo))\n",
    "        F_cleati = y_knee*x/x_knee\n",
    "    else:\n",
    "        ai = (A_bore*K_a-A_bore*y_knee*x-Vo*y_knee)/(m*(A_bore*x+Vo))\n",
    "        F_cleati = y_knee\n",
    "    Vi = Vo + x*A_bore\n",
    "    Pi = K_a/Vi\n",
    "\n",
    "    #slope intercept viscous damper\n",
    "#     F_cleati = q+b*v\n",
    "    \n",
    "    #mohr coulomb model\n",
    "\n",
    "    F_actuatori = Pi*A_bore\n",
    "    F_inertiai = ai*m\n",
    "    \n",
    "    a.append(ai)\n",
    "    V.append(Vi)\n",
    "    P.append(Pi)    \n",
    "    F_cleat.append(F_cleati)\n",
    "    F_actuator.append(F_actuatori)\n",
    "    F_inertia.append(F_inertiai)\n",
    "    \n",
    "    if x>.200:\n",
    "        t_impact.append(time[index])\n",
    "    else:\n",
    "        pass\n",
    "\n",
    "print('you reached 200mm in {:.2f} seconds'.format(t_impact[0]))"
   ]
  },
  {
   "cell_type": "code",
   "execution_count": 57,
   "metadata": {},
   "outputs": [],
   "source": [
    "\"\"\"plot results\"\"\"\n",
    "\n",
    "import matplotlib.pyplot as plt\n",
    "plt.close()\n",
    "# fig, (ax1, ax2, ax3, ax4, ax5) = plt.subplots(5, gridspec_kw={'hspace':1})\n",
    "fig, (ax1, ax2, ax3, ax4, ax5, ax6) = plt.subplots(6)\n",
    "\n",
    "# plt.plot(time, z2[:,1],'r-')\n",
    "\n",
    "ax1.plot(time, z2[:,0],'g-')\n",
    "ax1.set_title(\"Distance\")\n",
    "ax1.set_ylabel(\"Distance (m)\")\n",
    "\n",
    "ax2.plot(time,z2[:,1])\n",
    "ax2.set_title(\"Velocity\")\n",
    "ax2.set_ylabel(\"velocity (m/s)\")\n",
    "\n",
    "\n",
    "ax3.set_title(\"Forces\")\n",
    "ax3.set_ylabel(\"F (N)\")\n",
    "\n",
    "ax3.plot(time,F_cleat, 'r-', label = \"F_cleat\")\n",
    "# ax3.plot(time,F_actuator)\n",
    "ax3.plot(time,F_inertia, label = \"F_inertia\")\n",
    "ax3.plot(time,F_actuator, label = \"F_actuator\")\n",
    "ax3.legend()\n",
    "\n",
    "ax4.plot(time,P)\n",
    "ax4.set_title(\"Pressure\")\n",
    "ax4.set_ylabel(\"pressure (Pa)\")\n",
    "\n",
    "ax5.plot(time,V,'y-')\n",
    "ax5.set_title(\"Volume\")\n",
    "ax5.set_ylabel(\"volume (m^3)\")\n",
    "\n",
    "ax6.plot(time, a)\n",
    "\n",
    "fig.subplots_adjust(hspace=.5, right=.6, top = .95, bottom = .05)"
   ]
  },
  {
   "cell_type": "code",
   "execution_count": 9,
   "metadata": {},
   "outputs": [
    {
     "name": "stdout",
     "output_type": "stream",
     "text": [
      "eqn 1:\n",
      "treat q as friction and r as a term that accounts for soil gliding\n"
     ]
    },
    {
     "data": {
      "image/png": "[encoded data removed]",
      "text/latex": [
       "$\\displaystyle - b v{\\left(t \\right)} - m \\frac{d}{d t} v{\\left(t \\right)} - q + F{\\left(t \\right)}$"
      ],
      "text/plain": [
       "            d                  \n",
       "-b⋅v(t) - m⋅──(v(t)) - q + F(t)\n",
       "            dt                 "
      ]
     },
     "metadata": {},
     "output_type": "display_data"
    },
    {
     "name": "stdout",
     "output_type": "stream",
     "text": [
      "eqn 8.2:\n"
     ]
    },
    {
     "data": {
      "image/png": "[encoded data removed]",
      "text/latex": [
       "$\\displaystyle \\frac{A_{bore} K_{a}}{A_{bore} \\int v{\\left(t \\right)}\\, dt + Vo} - b v{\\left(t \\right)} - m \\frac{d}{d t} v{\\left(t \\right)} - q$"
      ],
      "text/plain": [
       "      A_bore⋅Kₐ                    d           \n",
       "───────────────────── - b⋅v(t) - m⋅──(v(t)) - q\n",
       "       ⌠                           dt          \n",
       "A_bore⋅⎮ v(t) dt + Vo                          \n",
       "       ⌡                                       "
      ]
     },
     "metadata": {},
     "output_type": "display_data"
    },
    {
     "name": "stdout",
     "output_type": "stream",
     "text": [
      "eqn 9.2:\n"
     ]
    },
    {
     "data": {
      "image/png": "[encoded data removed]",
      "text/latex": [
       "$\\displaystyle \\frac{A_{bore} K_{a}}{A_{bore} x{\\left(t \\right)} + Vo} - b \\frac{d}{d t} x{\\left(t \\right)} - m \\frac{d^{2}}{d t^{2}} x{\\left(t \\right)} - q$"
      ],
      "text/plain": [
       "                                    2          \n",
       "   A_bore⋅Kₐ         d             d           \n",
       "──────────────── - b⋅──(x(t)) - m⋅───(x(t)) - q\n",
       "A_bore⋅x(t) + Vo     dt             2          \n",
       "                                  dt           "
      ]
     },
     "metadata": {},
     "output_type": "display_data"
    },
    {
     "name": "stdout",
     "output_type": "stream",
     "text": [
      "eqn 13.2:\n"
     ]
    },
    {
     "data": {
      "image/png": "[encoded data removed]",
      "text/latex": [
       "$\\displaystyle \\frac{A_{bore} K_{a} - A_{bore} b x{\\left(t \\right)} \\frac{d}{d t} x{\\left(t \\right)} - A_{bore} q x{\\left(t \\right)} - Vo b \\frac{d}{d t} x{\\left(t \\right)} - Vo q}{m \\left(A_{bore} x{\\left(t \\right)} + Vo\\right)}$"
      ],
      "text/plain": [
       "                          d                               d              \n",
       "A_bore⋅Kₐ - A_bore⋅b⋅x(t)⋅──(x(t)) - A_bore⋅q⋅x(t) - Vo⋅b⋅──(x(t)) - Vo⋅q\n",
       "                          dt                              dt             \n",
       "─────────────────────────────────────────────────────────────────────────\n",
       "                           m⋅(A_bore⋅x(t) + Vo)                          "
      ]
     },
     "metadata": {},
     "output_type": "display_data"
    }
   ],
   "source": [
    "\"\"\"rewrite equation 1 to have a slope intercept for force as a function of velocity\"\"\"\n",
    "\n",
    "'''Apply Newtons 2nd Law to mass'''\n",
    "v, F = sym.symbols('v F', cls=sym.Function)\n",
    "#Apply Newtons law to the mass\n",
    "m, b, t, q = sym.symbols('m b t q')\n",
    "\n",
    "print('eqn 1:')\n",
    "print(\"treat q as friction and r as a term that accounts for soil gliding\")\n",
    "eqn1 = F(t) - q - b*v(t) - sym.Derivative(v(t),t)*m\n",
    "display(eqn1)\n",
    "\n",
    "#rewrite equation 8\n",
    "#sub 7 into 1\n",
    "print('eqn 8.2:')\n",
    "eqn8 = eqn1.subs({F(t):sym.solve(eqn7,F(t))[0]})\n",
    "display(eqn8)\n",
    "\n",
    "#write in terms of x(t)\n",
    "x = sym.symbols('x', cls=sym.Function)\n",
    "\n",
    "print('eqn 9.2:')\n",
    "eqn9 = eqn8.subs({sym.Integral(v(t),t):x(t), v(t): sym.Derivative(x(t),t)})  \n",
    "display(eqn9)\n",
    "\n",
    "#I actually want to see where A_bore and Vo end up in this form\n",
    "print('eqn 13.2:')\n",
    "eqn13 = sym.solve(eqn9, sym.Derivative(x(t),t,t))[0]\n",
    "display(eqn13)\n",
    "\n"
   ]
  },
  {
   "cell_type": "code",
   "execution_count": 10,
   "metadata": {},
   "outputs": [
    {
     "name": "stdout",
     "output_type": "stream",
     "text": [
      "your pressure and volume changed 1.82 percent\n"
     ]
    }
   ],
   "source": [
    "#postprocess\n",
    "\n",
    "deltaP = ((max(P)-min(P))/max(P)*100)\n",
    "deltaV = ((max(V)-min(V))/max(V)*100)\n",
    "print(\"your pressure and volume changed {:.2f} percent\".format(deltaP))"
   ]
  },
  {
   "cell_type": "code",
   "execution_count": 11,
   "metadata": {},
   "outputs": [
    {
     "name": "stdout",
     "output_type": "stream",
     "text": [
      "eqn 1:\n",
      "treat q as friction and r as a term that accounts for soil gliding\n"
     ]
    },
    {
     "data": {
      "image/png": "[encoded data removed]",
      "text/latex": [
       "$\\displaystyle - m \\frac{d}{d t} v{\\left(t \\right)} + F{\\left(t \\right)}$"
      ],
      "text/plain": [
       "    d              \n",
       "- m⋅──(v(t)) + F(t)\n",
       "    dt             "
      ]
     },
     "metadata": {},
     "output_type": "display_data"
    },
    {
     "name": "stdout",
     "output_type": "stream",
     "text": [
      "eqn 8.2:\n"
     ]
    },
    {
     "data": {
      "image/png": "[encoded data removed]",
      "text/latex": [
       "$\\displaystyle \\frac{A_{bore} K_{a}}{A_{bore} \\int v{\\left(t \\right)}\\, dt + Vo} - m \\frac{d}{d t} v{\\left(t \\right)}$"
      ],
      "text/plain": [
       "      A_bore⋅Kₐ           d       \n",
       "───────────────────── - m⋅──(v(t))\n",
       "       ⌠                  dt      \n",
       "A_bore⋅⎮ v(t) dt + Vo             \n",
       "       ⌡                          "
      ]
     },
     "metadata": {},
     "output_type": "display_data"
    },
    {
     "name": "stdout",
     "output_type": "stream",
     "text": [
      "eqn 9.2:\n"
     ]
    },
    {
     "data": {
      "image/png": "[encoded data removed]",
      "text/latex": [
       "$\\displaystyle \\frac{A_{bore} K_{a}}{A_{bore} x{\\left(t \\right)} + Vo} - m \\frac{d^{2}}{d t^{2}} x{\\left(t \\right)}$"
      ],
      "text/plain": [
       "                       2      \n",
       "   A_bore⋅Kₐ          d       \n",
       "──────────────── - m⋅───(x(t))\n",
       "A_bore⋅x(t) + Vo       2      \n",
       "                     dt       "
      ]
     },
     "metadata": {},
     "output_type": "display_data"
    },
    {
     "name": "stdout",
     "output_type": "stream",
     "text": [
      "equation for x < x_knee\n"
     ]
    },
    {
     "data": {
      "image/png": "[encoded data removed]",
      "text/latex": [
       "$\\displaystyle \\frac{A_{bore} K_{a}}{A_{bore} x{\\left(t \\right)} + Vo} - m \\frac{d^{2}}{d t^{2}} x{\\left(t \\right)} - \\frac{y_{knee} x{\\left(t \\right)}}{x_{knee}}$"
      ],
      "text/plain": [
       "                       2                   \n",
       "   A_bore⋅Kₐ          d          yₖₙₑₑ⋅x(t)\n",
       "──────────────── - m⋅───(x(t)) - ──────────\n",
       "A_bore⋅x(t) + Vo       2           xₖₙₑₑ   \n",
       "                     dt                    "
      ]
     },
     "metadata": {},
     "output_type": "display_data"
    },
    {
     "name": "stdout",
     "output_type": "stream",
     "text": [
      "equation for x > x_knee\n"
     ]
    },
    {
     "data": {
      "image/png": "[encoded data removed]",
      "text/latex": [
       "$\\displaystyle \\frac{A_{bore} K_{a}}{A_{bore} x{\\left(t \\right)} + Vo} - m \\frac{d^{2}}{d t^{2}} x{\\left(t \\right)} - y_{knee}$"
      ],
      "text/plain": [
       "                       2              \n",
       "   A_bore⋅Kₐ          d               \n",
       "──────────────── - m⋅───(x(t)) - yₖₙₑₑ\n",
       "A_bore⋅x(t) + Vo       2              \n",
       "                     dt               "
      ]
     },
     "metadata": {},
     "output_type": "display_data"
    },
    {
     "name": "stdout",
     "output_type": "stream",
     "text": [
      "solving for acceleration when x < x_knee\n",
      "eqn 13:\n"
     ]
    },
    {
     "data": {
      "image/png": "[encoded data removed]",
      "text/latex": [
       "$\\displaystyle \\frac{A_{bore} K_{a} x_{knee} - A_{bore} y_{knee} x^{2}{\\left(t \\right)} - Vo y_{knee} x{\\left(t \\right)}}{m x_{knee} \\left(A_{bore} x{\\left(t \\right)} + Vo\\right)}$"
      ],
      "text/plain": [
       "                                2                   \n",
       "A_bore⋅Kₐ⋅xₖₙₑₑ - A_bore⋅yₖₙₑₑ⋅x (t) - Vo⋅yₖₙₑₑ⋅x(t)\n",
       "────────────────────────────────────────────────────\n",
       "             m⋅xₖₙₑₑ⋅(A_bore⋅x(t) + Vo)             "
      ]
     },
     "metadata": {},
     "output_type": "display_data"
    },
    {
     "name": "stdout",
     "output_type": "stream",
     "text": [
      "solving for acceleration when x > x_knee\n",
      "eqn 13.2:\n"
     ]
    },
    {
     "data": {
      "image/png": "[encoded data removed]",
      "text/latex": [
       "$\\displaystyle \\frac{A_{bore} K_{a} - A_{bore} y_{knee} x{\\left(t \\right)} - Vo y_{knee}}{m \\left(A_{bore} x{\\left(t \\right)} + Vo\\right)}$"
      ],
      "text/plain": [
       "A_bore⋅Kₐ - A_bore⋅yₖₙₑₑ⋅x(t) - Vo⋅yₖₙₑₑ\n",
       "────────────────────────────────────────\n",
       "          m⋅(A_bore⋅x(t) + Vo)          "
      ]
     },
     "metadata": {},
     "output_type": "display_data"
    }
   ],
   "source": [
    "\"\"\"rewrite equation 1 to use Mohr-Coulomb soil model\"\"\"\n",
    "\n",
    "'''Apply Newtons 2nd Law to mass'''\n",
    "v, F = sym.symbols('v F', cls=sym.Function)\n",
    "#Apply Newtons law to the mass\n",
    "m, b, t, q = sym.symbols('m b t q')\n",
    "\n",
    "print('eqn 1:')\n",
    "print(\"treat q as friction and r as a term that accounts for soil gliding\")\n",
    "eqn1 = F(t)  - sym.Derivative(v(t),t)*m\n",
    "display(eqn1)\n",
    "\n",
    "#rewrite equation 8\n",
    "#sub 7 into 1\n",
    "print('eqn 8.2:')\n",
    "eqn8 = eqn1.subs({F(t):sym.solve(eqn7,F(t))[0]})\n",
    "display(eqn8)\n",
    "\n",
    "#write in terms of x(t)\n",
    "x = sym.symbols('x', cls=sym.Function)\n",
    "\n",
    "print('eqn 9.2:')\n",
    "\n",
    "\n",
    "eqn9 = eqn8.subs({sym.Integral(v(t),t):x(t), v(t): sym.Derivative(x(t),t)})  \n",
    "display(eqn9)\n",
    "\n",
    "#add in M-C soil model\n",
    "\n",
    "x_knee = sym.symbols('x_knee')\n",
    "y_knee = sym.symbols('y_knee')\n",
    "\n",
    "#equation for x < x_knee\n",
    "print('equation for x < x_knee')\n",
    "eqn9_2 = eqn9 - y_knee/x_knee*x(t)\n",
    "display(eqn9_2)\n",
    "\n",
    "#equation for x > x_knee\n",
    "print('equation for x > x_knee')\n",
    "eqn9_3 = eqn9 -y_knee\n",
    "display(eqn9_3)\n",
    "\n",
    "#I actually want to see where A_bore and Vo end up in this form\n",
    "print('solving for acceleration when x < x_knee')\n",
    "print('eqn 13:')\n",
    "eqn13 = sym.solve(eqn9_2, sym.Derivative(x(t),t,t))[0]\n",
    "display(eqn13)\n",
    "\n",
    "print('solving for acceleration when x > x_knee')\n",
    "print('eqn 13.2:')\n",
    "eqn13_2 = sym.solve(eqn9_3, sym.Derivative(x(t),t,t))[0]\n",
    "display(eqn13_2)"
   ]
  }
 ],
 "metadata": {
  "kernelspec": {
   "display_name": "Python 3",
   "language": "python",
   "name": "python3"
  },
  "language_info": {
   "codemirror_mode": {
    "name": "ipython",
    "version": 3
   },
   "file_extension": ".py",
   "mimetype": "text/x-python",
   "name": "python",
   "nbconvert_exporter": "python",
   "pygments_lexer": "ipython3",
   "version": "3.7.4"
  }
 },
 "nbformat": 4,
 "nbformat_minor": 2
}
