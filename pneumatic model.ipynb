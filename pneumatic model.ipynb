{
 "cells": [
  {
   "cell_type": "markdown",
   "metadata": {},
   "source": [
    "<img src=\"pneumatic model.png\">"
   ]
  },
  {
   "cell_type": "code",
   "execution_count": 139,
   "metadata": {},
   "outputs": [
    {
     "name": "stdout",
     "output_type": "stream",
     "text": [
      "IPython console for SymPy 1.4 (Python 3.7.4-64-bit) (ground types: gmpy)\n",
      "\n",
      "These commands were executed:\n",
      ">>> from __future__ import division\n",
      ">>> from sympy import *\n",
      ">>> x, y, z, t = symbols('x y z t')\n",
      ">>> k, m, n = symbols('k m n', integer=True)\n",
      ">>> f, g, h = symbols('f g h', cls=Function)\n",
      ">>> init_printing()\n",
      "\n",
      "Documentation can be found at https://docs.sympy.org/1.4/\n",
      "\n"
     ]
    }
   ],
   "source": [
    "import sympy as sym\n",
    "from sympy import init_session\n",
    "init_session()"
   ]
  },
  {
   "cell_type": "code",
   "execution_count": 192,
   "metadata": {},
   "outputs": [
    {
     "name": "stdout",
     "output_type": "stream",
     "text": [
      "eqn 1:\n"
     ]
    },
    {
     "data": {
      "image/png": "[encoded data removed]",
      "text/latex": [
       "$\\displaystyle - b v{\\left(t \\right)} - m \\frac{d}{d t} v{\\left(t \\right)} + F{\\left(t \\right)}$"
      ],
      "text/plain": [
       "            d              \n",
       "-b⋅v(t) - m⋅──(v(t)) + F(t)\n",
       "            dt             "
      ]
     },
     "metadata": {},
     "output_type": "display_data"
    },
    {
     "data": {
      "image/png": "[encoded data removed]",
      "text/latex": [
       "$\\displaystyle v{\\left(t \\right)} = \\left(C_{1} + \\frac{\\int F{\\left(t \\right)} e^{\\frac{b t}{m}}\\, dt}{m}\\right) e^{- \\frac{b t}{m}}$"
      ],
      "text/plain": [
       "       ⎛     ⌠             ⎞       \n",
       "       ⎜     ⎮       b⋅t   ⎟       \n",
       "       ⎜     ⎮       ───   ⎟       \n",
       "       ⎜     ⎮        m    ⎟  -b⋅t \n",
       "       ⎜     ⎮ F(t)⋅ℯ    dt⎟  ─────\n",
       "       ⎜     ⌡             ⎟    m  \n",
       "v(t) = ⎜C₁ + ──────────────⎟⋅ℯ     \n",
       "       ⎝           m       ⎠       "
      ]
     },
     "execution_count": 192,
     "metadata": {},
     "output_type": "execute_result"
    }
   ],
   "source": [
    "'''Simple Model\n",
    "inifinte tank --> p & F constant\n",
    "turf doesn't exist\n",
    "'''\n",
    "v, F = symbols('v F', cls=Function)\n",
    "#Apply Newtons law to the mass\n",
    "m = symbols('m')\n",
    "b = symbols('b')\n",
    "\n",
    "print('eqn 1:')\n",
    "eqn1 = F(t) - b*v(t) - Derivative(v(t),t)*m\n",
    "display(eqn1)\n",
    "sym.dsolve(eqn1, v(t))"
   ]
  },
  {
   "cell_type": "code",
   "execution_count": 141,
   "metadata": {},
   "outputs": [],
   "source": [
    "# '''solve numerically\n",
    "# '''\n",
    "# import numpy as np\n",
    "# from scipy.integrate import odeint\n",
    "# y = sym.symbols('y', cls = Function)\n",
    "# b = 1.0\n",
    "# m = 5.0\n",
    "# F = 10.0\n",
    "\n",
    "# def model(y,t,b):\n",
    "#     dvdt = -(-F + b*y)/m\n",
    "#     return dvdt\n",
    "\n",
    "# vo = 0.0\n",
    "# t = np.linspace(0,10,1000)\n",
    "# y = odeint(model,vo,t,(m,))\n",
    "\n",
    "# plt.plot(t,y)\n",
    "# plt.show()"
   ]
  },
  {
   "cell_type": "code",
   "execution_count": 184,
   "metadata": {},
   "outputs": [
    {
     "name": "stdout",
     "output_type": "stream",
     "text": [
      "ideal gas law\n"
     ]
    },
    {
     "data": {
      "image/png": "[encoded data removed]",
      "text/latex": [
       "$\\displaystyle - T n r + P{\\left(t \\right)} V{\\left(t \\right)}$"
      ],
      "text/plain": [
       "-T⋅n⋅r + P(t)⋅V(t)"
      ]
     },
     "metadata": {},
     "output_type": "display_data"
    },
    {
     "name": "stdout",
     "output_type": "stream",
     "text": [
      "adiabatic constant\n"
     ]
    },
    {
     "data": {
      "text/html": [
       "\\[3392920.065876977\\ force\\_pound\\ inch\\]"
      ],
      "text/latex": [
       "$3392920.065876977\\ \\mathrm{force\\_pound} \\cdot \\mathrm{inch}$"
      ],
      "text/plain": [
       "3392920.065876977 <Unit('force_pound * inch')>"
      ]
     },
     "metadata": {},
     "output_type": "display_data"
    },
    {
     "name": "stdout",
     "output_type": "stream",
     "text": [
      "eqn 2:\n"
     ]
    },
    {
     "data": {
      "image/png": "[encoded data removed]",
      "text/latex": [
       "$\\displaystyle - K_{adiabatic} + P{\\left(t \\right)} V{\\left(t \\right)}$"
      ],
      "text/plain": [
       "-K_adiabatic + P(t)⋅V(t)"
      ]
     },
     "metadata": {},
     "output_type": "display_data"
    },
    {
     "name": "stdout",
     "output_type": "stream",
     "text": [
      "eqn 3:\n"
     ]
    },
    {
     "data": {
      "image/png": "[encoded data removed]",
      "text/latex": [
       "$\\displaystyle - A_{bore} v{\\left(t \\right)} + \\frac{d}{d t} V{\\left(t \\right)}$"
      ],
      "text/plain": [
       "               d       \n",
       "-A_bore⋅v(t) + ──(V(t))\n",
       "               dt      "
      ]
     },
     "metadata": {},
     "output_type": "display_data"
    },
    {
     "name": "stdout",
     "output_type": "stream",
     "text": [
      "eqn 4:\n"
     ]
    },
    {
     "data": {
      "image/png": "[encoded data removed]",
      "text/latex": [
       "$\\displaystyle - A_{bore} P{\\left(t \\right)} + F{\\left(t \\right)}$"
      ],
      "text/plain": [
       "-A_bore⋅P(t) + F(t)"
      ]
     },
     "execution_count": 184,
     "metadata": {},
     "output_type": "execute_result"
    }
   ],
   "source": [
    "'''in actuality the volume of the tank will effect the dynamics\n",
    "assume constant temp\n",
    "'''\n",
    "from pint import UnitRegistry\n",
    "ureg = UnitRegistry()\n",
    "\n",
    "n,r,T = sym.symbols('n, r, T')\n",
    "V, P = sym.symbols('V, P', cls=Function)\n",
    "print(\"ideal gas law\")\n",
    "display(P(t)*V(t) -n*r*T)\n",
    "\n",
    "#calculate the adiabatic constant\n",
    "D_tank = 2.5*12\n",
    "L_tank = 4*12\n",
    "V_tank = D_tank**2*np.pi/4*L_tank*ureg.inch**3\n",
    "V_tank.to(ureg.meter**3)\n",
    "P_tank = 100*ureg.lbf/ureg.inch**2\n",
    "P_tank.to(ureg.newton/ureg.meter**2)\n",
    "\n",
    "K_tank = P_tank*V_tank\n",
    "print(\"adiabatic constant\")\n",
    "display(K_tank)\n",
    "K_adiabatic = sym.symbols('K_adiabatic')\n",
    "print('eqn 2:')\n",
    "display(P(t)*V(t)-K_adiabatic)\n",
    "\n",
    "#Actuator volume\n",
    "D_bore = sym.symbols('D_bore')\n",
    "A_bore = sym.symbols('A_bore')\n",
    "# A_bore = D_bore**2*k #k is a placeholder to get area\n",
    "print('eqn 3:')\n",
    "display(Derivative(V(t),t) - v(t)*A_bore)\n",
    "\n",
    "#Actuator force\n",
    "print('eqn 4:')\n",
    "F(t) - P(t)*A_bore"
   ]
  },
  {
   "cell_type": "code",
   "execution_count": 208,
   "metadata": {},
   "outputs": [
    {
     "name": "stdout",
     "output_type": "stream",
     "text": [
      "eqn 5:\n"
     ]
    },
    {
     "data": {
      "image/png": "[encoded data removed]",
      "text/latex": [
       "$\\displaystyle - \\frac{A_{bore} K_{adiabatic}}{V{\\left(t \\right)}} + F{\\left(t \\right)}$"
      ],
      "text/plain": [
       "  A_bore⋅K_adiabatic       \n",
       "- ────────────────── + F(t)\n",
       "         V(t)              "
      ]
     },
     "metadata": {},
     "output_type": "display_data"
    },
    {
     "name": "stdout",
     "output_type": "stream",
     "text": [
      "eqn 6:\n"
     ]
    },
    {
     "data": {
      "image/png": "[encoded data removed]",
      "text/latex": [
       "$\\displaystyle - A_{bore} \\int v{\\left(t \\right)}\\, dt + V{\\left(t \\right)}$"
      ],
      "text/plain": [
       "         ⌠               \n",
       "- A_bore⋅⎮ v(t) dt + V(t)\n",
       "         ⌡               "
      ]
     },
     "metadata": {},
     "output_type": "display_data"
    },
    {
     "name": "stdout",
     "output_type": "stream",
     "text": [
      "eqn 7:\n"
     ]
    },
    {
     "data": {
      "image/png": "[encoded data removed]",
      "text/latex": [
       "$\\displaystyle - \\frac{K_{adiabatic}}{\\int v{\\left(t \\right)}\\, dt} + F{\\left(t \\right)}$"
      ],
      "text/plain": [
       "  K_adiabatic       \n",
       "- ─────────── + F(t)\n",
       "   ⌠                \n",
       "   ⎮ v(t) dt        \n",
       "   ⌡                "
      ]
     },
     "metadata": {},
     "output_type": "display_data"
    },
    {
     "name": "stdout",
     "output_type": "stream",
     "text": [
      "eqn 8:\n"
     ]
    },
    {
     "data": {
      "image/png": "[encoded data removed]",
      "text/latex": [
       "$\\displaystyle \\frac{K_{adiabatic}}{\\int v{\\left(t \\right)}\\, dt} - b v{\\left(t \\right)} - m \\frac{d}{d t} v{\\left(t \\right)}$"
      ],
      "text/plain": [
       "K_adiabatic              d       \n",
       "─────────── - b⋅v(t) - m⋅──(v(t))\n",
       " ⌠                       dt      \n",
       " ⎮ v(t) dt                       \n",
       " ⌡                               "
      ]
     },
     "metadata": {},
     "output_type": "display_data"
    },
    {
     "name": "stdout",
     "output_type": "stream",
     "text": [
      "eqn 8:\n"
     ]
    },
    {
     "data": {
      "image/png": "[encoded data removed]",
      "text/latex": [
       "$\\displaystyle \\frac{K_{adiabatic}}{x{\\left(t \\right)}} - b \\frac{d}{d t} x{\\left(t \\right)} - m \\frac{d^{2}}{d t^{2}} x{\\left(t \\right)}$"
      ],
      "text/plain": [
       "                               2      \n",
       "K_adiabatic     d             d       \n",
       "─────────── - b⋅──(x(t)) - m⋅───(x(t))\n",
       "    x(t)        dt             2      \n",
       "                             dt       "
      ]
     },
     "metadata": {},
     "output_type": "display_data"
    }
   ],
   "source": [
    "'''we want F(t) in our original equation to be in terms of v(t)'''\n",
    "\n",
    "-A_bore*Integral(v(t),t)+V(t)\n",
    "\n",
    "#sub 2 into 4\"\n",
    "print('eqn 5:')\n",
    "display(-A_bore*K_adiabatic/V(t)+F(t))\n",
    "\n",
    "#integrate 3\n",
    "print('eqn 6:')\n",
    "display(-A_bore*Integral(v(t),t)+V(t))\n",
    "\n",
    "#sub 6 into 5\n",
    "print('eqn 7:')\n",
    "display(-A_bore*K_adiabatic/(A_bore*Integral(v(t),t)) + F(t))\n",
    "# eqn2 = A_bore*P(t) - b*v(t) - Derivative(v(t),t)*m\n",
    "# display(eqn2)\n",
    "\n",
    "#sub 7 into 1\n",
    "print('eqn 8:')\n",
    "display(K_adiabatic/Integral(v(t),t) - b*v(t) - Derivative(v(t),t)*m)\n",
    "\n",
    "#write in terms of x(t)\n",
    "x = symbols('x', cls=Function)\n",
    "print('eqn 8:')\n",
    "eqn8 = (K_adiabatic/x(t) - b*Derivative(x(t),t) - Derivative(x(t),t,t)*m)\n",
    "display(eqn8)"
   ]
  },
  {
   "cell_type": "code",
   "execution_count": null,
   "metadata": {},
   "outputs": [],
   "source": []
  }
 ],
 "metadata": {
  "kernelspec": {
   "display_name": "Python 3",
   "language": "python",
   "name": "python3"
  },
  "language_info": {
   "codemirror_mode": {
    "name": "ipython",
    "version": 3
   },
   "file_extension": ".py",
   "mimetype": "text/x-python",
   "name": "python",
   "nbconvert_exporter": "python",
   "pygments_lexer": "ipython3",
   "version": "3.7.4"
  }
 },
 "nbformat": 4,
 "nbformat_minor": 2
}
