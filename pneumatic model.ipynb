{
 "cells": [
  {
   "cell_type": "markdown",
   "metadata": {},
   "source": [
    "<img src=\"pneumatic model.png\">"
   ]
  },
  {
   "cell_type": "code",
   "execution_count": 47,
   "metadata": {},
   "outputs": [
    {
     "name": "stdout",
     "output_type": "stream",
     "text": [
      "eqn 1:\n"
     ]
    },
    {
     "data": {
      "image/png": "[encoded data removed]",
      "text/latex": [
       "$\\displaystyle - b v{\\left(t \\right)} - m \\frac{d}{d t} v{\\left(t \\right)} + F{\\left(t \\right)}$"
      ],
      "text/plain": [
       "            d              \n",
       "-b⋅v(t) - m⋅──(v(t)) + F(t)\n",
       "            dt             "
      ]
     },
     "metadata": {},
     "output_type": "display_data"
    },
    {
     "name": "stdout",
     "output_type": "stream",
     "text": [
      "analytical solution:\n"
     ]
    },
    {
     "data": {
      "image/png": "[encoded data removed]",
      "text/latex": [
       "$\\displaystyle v{\\left(t \\right)} = \\left(C_{1} + \\frac{\\int F{\\left(t \\right)} e^{\\frac{b t}{m}}\\, dt}{m}\\right) e^{- \\frac{b t}{m}}$"
      ],
      "text/plain": [
       "       ⎛     ⌠             ⎞       \n",
       "       ⎜     ⎮       b⋅t   ⎟       \n",
       "       ⎜     ⎮       ───   ⎟       \n",
       "       ⎜     ⎮        m    ⎟  -b⋅t \n",
       "       ⎜     ⎮ F(t)⋅ℯ    dt⎟  ─────\n",
       "       ⎜     ⌡             ⎟    m  \n",
       "v(t) = ⎜C₁ + ──────────────⎟⋅ℯ     \n",
       "       ⎝           m       ⎠       "
      ]
     },
     "execution_count": 47,
     "metadata": {},
     "output_type": "execute_result"
    }
   ],
   "source": [
    "import sympy as sym\n",
    "sym.init_printing()\n",
    "\n",
    "'''Apply Newtons 2nd Law to mass'''\n",
    "v, F = sym.symbols('v F', cls=sym.Function)\n",
    "#Apply Newtons law to the mass\n",
    "m, b, t = sym.symbols('m b t')\n",
    "# b = sym.symbols('b')\n",
    "\n",
    "print('eqn 1:')\n",
    "eqn1 = F(t) - b*v(t) - sym.Derivative(v(t),t)*m\n",
    "display(eqn1)\n",
    "\n",
    "print('analytical solution:')\n",
    "sym.dsolve(eqn1, v(t))"
   ]
  },
  {
   "cell_type": "code",
   "execution_count": 48,
   "metadata": {},
   "outputs": [
    {
     "name": "stdout",
     "output_type": "stream",
     "text": [
      "ideal gas law\n"
     ]
    },
    {
     "data": {
      "image/png": "[encoded data removed]",
      "text/latex": [
       "$\\displaystyle - T n r + P{\\left(t \\right)} V{\\left(t \\right)}$"
      ],
      "text/plain": [
       "-T⋅n⋅r + P(t)⋅V(t)"
      ]
     },
     "metadata": {},
     "output_type": "display_data"
    },
    {
     "name": "stdout",
     "output_type": "stream",
     "text": [
      "eqn 2 (assume adibatic):\n"
     ]
    },
    {
     "data": {
      "image/png": "[encoded data removed]",
      "text/latex": [
       "$\\displaystyle - K_{a} + P{\\left(t \\right)} V{\\left(t \\right)}$"
      ],
      "text/plain": [
       "-Kₐ + P(t)⋅V(t)"
      ]
     },
     "metadata": {},
     "output_type": "display_data"
    },
    {
     "name": "stdout",
     "output_type": "stream",
     "text": [
      "eqn 3:\n"
     ]
    },
    {
     "data": {
      "image/png": "[encoded data removed]",
      "text/latex": [
       "$\\displaystyle - A_{bore} v{\\left(t \\right)} + \\frac{d}{d t} V{\\left(t \\right)}$"
      ],
      "text/plain": [
       "               d       \n",
       "-A_bore⋅v(t) + ──(V(t))\n",
       "               dt      "
      ]
     },
     "metadata": {},
     "output_type": "display_data"
    },
    {
     "name": "stdout",
     "output_type": "stream",
     "text": [
      "eqn 4:\n"
     ]
    },
    {
     "data": {
      "image/png": "[encoded data removed]",
      "text/latex": [
       "$\\displaystyle - A_{bore} P{\\left(t \\right)} + F{\\left(t \\right)}$"
      ],
      "text/plain": [
       "-A_bore⋅P(t) + F(t)"
      ]
     },
     "metadata": {},
     "output_type": "display_data"
    }
   ],
   "source": [
    "'''write F(t) as a function of velocity\n",
    "write out base equations'''\n",
    "\n",
    "n,r,T = sym.symbols('n, r, T')\n",
    "V, P = sym.symbols('V, P', cls=sym.Function)\n",
    "print(\"ideal gas law\")\n",
    "display(P(t)*V(t) -n*r*T)\n",
    "K_a = sym.symbols('K_a')\n",
    "print('eqn 2 (assume adibatic):')\n",
    "eqn2 = (P(t)*V(t)-K_a)\n",
    "display(eqn2)\n",
    "\n",
    "#Actuator volume\n",
    "A_bore = sym.symbols('A_bore')\n",
    "print('eqn 3:')\n",
    "eqn3 = sym.Derivative(V(t),t) - v(t)*A_bore\n",
    "display(eqn3)\n",
    "\n",
    "#Actuator force\n",
    "print('eqn 4:')\n",
    "eqn4 = F(t) - P(t)*A_bore\n",
    "display(eqn4)"
   ]
  },
  {
   "cell_type": "code",
   "execution_count": 49,
   "metadata": {},
   "outputs": [
    {
     "name": "stdout",
     "output_type": "stream",
     "text": [
      "eqn 5:\n"
     ]
    },
    {
     "data": {
      "image/png": "[encoded data removed]",
      "text/latex": [
       "$\\displaystyle - \\frac{A_{bore} K_{a}}{V{\\left(t \\right)}} + F{\\left(t \\right)}$"
      ],
      "text/plain": [
       "  A_bore⋅Kₐ       \n",
       "- ───────── + F(t)\n",
       "     V(t)         "
      ]
     },
     "metadata": {},
     "output_type": "display_data"
    },
    {
     "name": "stdout",
     "output_type": "stream",
     "text": [
      "eqn 6:\n"
     ]
    },
    {
     "data": {
      "image/png": "[encoded data removed]",
      "text/latex": [
       "$\\displaystyle - A_{bore} \\int v{\\left(t \\right)}\\, dt - Vo + V{\\left(t \\right)}$"
      ],
      "text/plain": [
       "         ⌠                    \n",
       "- A_bore⋅⎮ v(t) dt - Vo + V(t)\n",
       "         ⌡                    "
      ]
     },
     "metadata": {},
     "output_type": "display_data"
    },
    {
     "name": "stdout",
     "output_type": "stream",
     "text": [
      "eqn 7:\n"
     ]
    },
    {
     "data": {
      "image/png": "[encoded data removed]",
      "text/latex": [
       "$\\displaystyle - \\frac{A_{bore} K_{a}}{A_{bore} \\int v{\\left(t \\right)}\\, dt + Vo} + F{\\left(t \\right)}$"
      ],
      "text/plain": [
       "        A_bore⋅Kₐ             \n",
       "- ───────────────────── + F(t)\n",
       "         ⌠                    \n",
       "  A_bore⋅⎮ v(t) dt + Vo       \n",
       "         ⌡                    "
      ]
     },
     "metadata": {},
     "output_type": "display_data"
    },
    {
     "name": "stdout",
     "output_type": "stream",
     "text": [
      "eqn 8:\n"
     ]
    },
    {
     "data": {
      "image/png": "[encoded data removed]",
      "text/latex": [
       "$\\displaystyle \\frac{A_{bore} K_{a}}{A_{bore} \\int v{\\left(t \\right)}\\, dt + Vo} - b v{\\left(t \\right)} - m \\frac{d}{d t} v{\\left(t \\right)}$"
      ],
      "text/plain": [
       "      A_bore⋅Kₐ                    d       \n",
       "───────────────────── - b⋅v(t) - m⋅──(v(t))\n",
       "       ⌠                           dt      \n",
       "A_bore⋅⎮ v(t) dt + Vo                      \n",
       "       ⌡                                   "
      ]
     },
     "metadata": {},
     "output_type": "display_data"
    },
    {
     "name": "stdout",
     "output_type": "stream",
     "text": [
      "eqn 9:\n"
     ]
    },
    {
     "data": {
      "image/png": "[encoded data removed]",
      "text/latex": [
       "$\\displaystyle \\frac{A_{bore} K_{a}}{A_{bore} x{\\left(t \\right)} + Vo} - b \\frac{d}{d t} x{\\left(t \\right)} - m \\frac{d^{2}}{d t^{2}} x{\\left(t \\right)}$"
      ],
      "text/plain": [
       "                                    2      \n",
       "   A_bore⋅Kₐ         d             d       \n",
       "──────────────── - b⋅──(x(t)) - m⋅───(x(t))\n",
       "A_bore⋅x(t) + Vo     dt             2      \n",
       "                                  dt       "
      ]
     },
     "metadata": {},
     "output_type": "display_data"
    }
   ],
   "source": [
    "'''we want F(t) in our original equation to be in terms of v(t)'''\n",
    "\n",
    "#sub 2 into 4\"\n",
    "print('eqn 5:')\n",
    "eqn5 = eqn4.subs({P(t):sym.solve(eqn2,P(t))[0]})\n",
    "display(eqn5)\n",
    "\n",
    "#integrate 3\n",
    "#tank initial Volume\n",
    "Vo = sym.symbols('Vo')\n",
    "#actuator initial position, but we'll zero it out\n",
    "xo = sym.symbols('xo')\n",
    "print('eqn 6:')\n",
    "#I'm skeptical. Why aren't we seeing V(t) = Vo + A*x(t)?\n",
    "\"\"\"manually fix\"\"\"\n",
    "eqn6 = -A_bore*sym.Integral(v(t),t) + V(t) -Vo\n",
    "display(eqn6)\n",
    "\n",
    "#sub 6 into 5\n",
    "print('eqn 7:')\n",
    "eqn7 = eqn5.subs({V(t):sym.solve(eqn6,V(t))[0]})\n",
    "display(eqn7)\n",
    "sol = (sym.solve(eqn7, F(t))[0])\n",
    "\n",
    "#sub 7 into 1\n",
    "print('eqn 8:')\n",
    "eqn8 = eqn1.subs({F(t):sym.solve(eqn7,F(t))[0]})\n",
    "display(eqn8)\n",
    "\n",
    "#write in terms of x(t)\n",
    "x = sym.symbols('x', cls=sym.Function)\n",
    "\n",
    "print('eqn 9:')\n",
    "eqn9 = eqn8.subs({sym.Integral(v(t),t):x(t), v(t): sym.Derivative(x(t),t)})  \n",
    "display(eqn9)"
   ]
  },
  {
   "cell_type": "code",
   "execution_count": 50,
   "metadata": {},
   "outputs": [
    {
     "name": "stdout",
     "output_type": "stream",
     "text": [
      "---------------------------Just showing standard form--------------------------------\n",
      "eqn 10:\n"
     ]
    },
    {
     "data": {
      "image/png": "[encoded data removed]",
      "text/latex": [
       "$\\displaystyle \\frac{K_{a}}{\\alpha + x{\\left(t \\right)}} - b \\frac{d}{d t} x{\\left(t \\right)} - m \\frac{d^{2}}{d t^{2}} x{\\left(t \\right)}$"
      ],
      "text/plain": [
       "                            2      \n",
       "   Kₐ        d             d       \n",
       "──────── - b⋅──(x(t)) - m⋅───(x(t))\n",
       "α + x(t)     dt             2      \n",
       "                          dt       "
      ]
     },
     "metadata": {},
     "output_type": "display_data"
    },
    {
     "name": "stdout",
     "output_type": "stream",
     "text": [
      "eqn 11:\n"
     ]
    },
    {
     "data": {
      "image/png": "[encoded data removed]",
      "text/latex": [
       "$\\displaystyle K_{a} - \\left(\\alpha + x{\\left(t \\right)}\\right) \\left(b \\frac{d}{d t} x{\\left(t \\right)} + m \\frac{d^{2}}{d t^{2}} x{\\left(t \\right)}\\right)$"
      ],
      "text/plain": [
       "                ⎛                 2      ⎞\n",
       "                ⎜  d             d       ⎟\n",
       "Kₐ - (α + x(t))⋅⎜b⋅──(x(t)) + m⋅───(x(t))⎟\n",
       "                ⎜  dt             2      ⎟\n",
       "                ⎝               dt       ⎠"
      ]
     },
     "metadata": {},
     "output_type": "display_data"
    },
    {
     "name": "stdout",
     "output_type": "stream",
     "text": [
      "eqn 12:\n"
     ]
    },
    {
     "data": {
      "image/png": "[encoded data removed]",
      "text/latex": [
       "$\\displaystyle \\frac{K_{a} - \\alpha b \\frac{d}{d t} x{\\left(t \\right)} - b x{\\left(t \\right)} \\frac{d}{d t} x{\\left(t \\right)}}{m \\left(\\alpha + x{\\left(t \\right)}\\right)}$"
      ],
      "text/plain": [
       "         d                 d       \n",
       "Kₐ - α⋅b⋅──(x(t)) - b⋅x(t)⋅──(x(t))\n",
       "         dt                dt      \n",
       "───────────────────────────────────\n",
       "            m⋅(α + x(t))           "
      ]
     },
     "metadata": {},
     "output_type": "display_data"
    },
    {
     "name": "stdout",
     "output_type": "stream",
     "text": [
      "---------------------------Just showing standard form--------------------------------\n",
      "eqn 13:\n"
     ]
    },
    {
     "data": {
      "image/png": "[encoded data removed]",
      "text/latex": [
       "$\\displaystyle \\frac{A_{bore} K_{a} - A_{bore} b x{\\left(t \\right)} \\frac{d}{d t} x{\\left(t \\right)} - Vo b \\frac{d}{d t} x{\\left(t \\right)}}{m \\left(A_{bore} x{\\left(t \\right)} + Vo\\right)}$"
      ],
      "text/plain": [
       "                          d               d       \n",
       "A_bore⋅Kₐ - A_bore⋅b⋅x(t)⋅──(x(t)) - Vo⋅b⋅──(x(t))\n",
       "                          dt              dt      \n",
       "──────────────────────────────────────────────────\n",
       "               m⋅(A_bore⋅x(t) + Vo)               "
      ]
     },
     "metadata": {},
     "output_type": "display_data"
    }
   ],
   "source": [
    "'''get eqn in standard form'''\n",
    "print(\"---------------------------Just showing standard form--------------------------------\")\n",
    "#take alpha = -Vo/A\n",
    "alpha = sym.symbols('alpha')\n",
    "eqn10 = K_a/(x(t)+alpha) - b*sym.Derivative(x(t),t)-m*sym.Derivative(x(t),t,t)\n",
    "print('eqn 10:')\n",
    "display(eqn10)\n",
    "\n",
    "#multiply through to coerce function into standard form\n",
    "eqn11 = eqn10*(alpha+x(t))\n",
    "print('eqn 11:')\n",
    "display(sym.simplify(eqn11))\n",
    "\n",
    "#solve eqn11 in terms of the double derivative\n",
    "print('eqn 12:')\n",
    "eqn12 = sym.solve(eqn11, sym.Derivative(x(t),t,t))[0]\n",
    "display(eqn12)\n",
    "print(\"---------------------------Just showing standard form--------------------------------\")\n",
    "\n",
    "#I actually want to see where A_bore and Vo end up in this form\n",
    "print('eqn 13:')\n",
    "eqn13 = sym.solve(eqn9, sym.Derivative(x(t),t,t))[0]\n",
    "display(eqn13)"
   ]
  },
  {
   "cell_type": "code",
   "execution_count": 51,
   "metadata": {},
   "outputs": [
    {
     "data": {
      "text/plain": [
       "'calcs on existing system to determine variables'"
      ]
     },
     "execution_count": 51,
     "metadata": {},
     "output_type": "execute_result"
    }
   ],
   "source": [
    "'''calcs on existing system to determine variables'''\n",
    "# from pint import UnitRegistry\n",
    "# ureg = UnitRegistry()\n",
    "# #calculate the a constant\n",
    "# D_tank = 2.5*12\n",
    "# L_tank = 4*12\n",
    "# V_tank = D_tank**2*np.pi/4*L_tank*ureg.inch**3\n",
    "# V_tank.to(ureg.meter**3)\n",
    "# P_tank = 100*ureg.lbf/ureg.inch**2\n",
    "# P_tank.to(ureg.newton/ureg.meter**2)\n",
    "# K_tank = P_tank*V_tank\n",
    "# print(\"a constant\")\n",
    "# display(K_tank)\n"
   ]
  },
  {
   "cell_type": "code",
   "execution_count": 56,
   "metadata": {},
   "outputs": [
    {
     "name": "stdout",
     "output_type": "stream",
     "text": [
      "[1841.660518396592, 1840.8584092189099, 1838.8675428736246, 1836.1363194572928, 1832.9483836305978, 1829.482616155361, 1825.851591273591, 1822.1260396323444, 1818.3503339893687, 1814.552263869804]\n"
     ]
    }
   ],
   "source": [
    "'''solve numerically.\n",
    "v(t) = x'(t)\n",
    "'''\n",
    "# %matplotlib inline\n",
    "%matplotlib qt \n",
    "\n",
    "from scipy.integrate import odeint\n",
    "import numpy as np\n",
    "\n",
    "N_lbf = 4.44\n",
    "in_m = 39.37\n",
    "\n",
    "Vo = 0.118 #m^3, changed the revolve and measured in solidworks\n",
    "Po = 50.0*N_lbf*in_m**2\n",
    "K_a = Vo*Po\n",
    "D_bore = 3.25 #inch\n",
    "A_bore = (D_bore/in_m/2)**2*np.pi\n",
    "b = 850\n",
    "m = 40.8 #kg, from biocore\n",
    "alpha = -Vo/A_bore\n",
    "\n",
    "def model(x,t):\n",
    "    y = x[0]\n",
    "    dy = x[1]\n",
    "    xdot = [[],[]]\n",
    "    xdot[0] = dy\n",
    "#     xdot[1] = (K_a - alpha*b*dy - b*y*dy)/(m*(alpha + y))\n",
    "    xdot[1] = (A_bore*K_a-A_bore*b*y*dy-Vo*b*dy)/(m*(A_bore*y+Vo))\n",
    "    return xdot\n",
    "time = np.linspace(0,.2,10)\n",
    "z2 = odeint(model, [0,0],time)\n",
    "\n",
    "# print(z2)\n",
    "\n",
    "V = []\n",
    "F_cleat = []\n",
    "F_actuator = []\n",
    "F_inertia = []\n",
    "F_actuator2 = []\n",
    "\n",
    "P = []\n",
    "PtimesV = []\n",
    "a = []\n",
    "\n",
    "for i in z2:\n",
    "    x = i[0]\n",
    "    v = i[1]\n",
    "    ai = (A_bore*K_a-A_bore*b*x*v-Vo*b*v)/(m*(A_bore*x+Vo))\n",
    "    Vi = Vo + x*A_bore\n",
    "    Pi = K_a - Vi\n",
    "    F_cleati = b*v\n",
    "    F_actuatori = Pi*A_bore\n",
    "    F_actuatori2 = K_a/Vi*A_bore\n",
    "    F_inertiai = ai*m\n",
    "    \n",
    "    a.append(ai)\n",
    "    V.append(Vi)\n",
    "    \n",
    "    P.append(Pi)\n",
    "    \n",
    "    F_cleat.append(F_cleati)\n",
    "    F_actuator.append(F_actuatori)\n",
    "    F_inertia.append(F_inertiai)\n",
    "    F_actuator2.append(F_actuatori2)\n",
    "\n",
    "print(F_actuator2)\n",
    "\n",
    "\n"
   ]
  },
  {
   "cell_type": "code",
   "execution_count": 60,
   "metadata": {},
   "outputs": [],
   "source": [
    "\"\"\"plot results\"\"\"\n",
    "\n",
    "import matplotlib.pyplot as plt\n",
    "plt.close()\n",
    "# fig, (ax1, ax2, ax3, ax4, ax5) = plt.subplots(5, gridspec_kw={'hspace':1})\n",
    "fig, (ax1, ax2, ax3, ax4, ax5) = plt.subplots(5)\n",
    "\n",
    "# plt.plot(time, z2[:,1],'r-')\n",
    "\n",
    "ax1.plot(time, z2[:,0],'g-')\n",
    "ax1.set_title(\"Distance\")\n",
    "ax1.set_ylabel(\"Distance (m)\")\n",
    "\n",
    "ax2.plot(time,V,'y-')\n",
    "ax2.set_title(\"Volume\")\n",
    "ax2.set_ylabel(\"volume (m^3)\")\n",
    "\n",
    "\n",
    "ax3.set_title(\"Forces\")\n",
    "ax3.set_ylabel(\"F (N)\")\n",
    "\n",
    "ax3.plot(time,F_cleat, 'r-', label = \"F_cleat\")\n",
    "# ax3.plot(time,F_actuator)\n",
    "ax3.plot(time,F_inertia, label = \"F_inertia\")\n",
    "ax3.plot(time,F_actuator2, label = \"F_actuator\")\n",
    "ax3.legend()\n",
    "\n",
    "ax4.plot(time,P)\n",
    "ax4.set_title(\"Pressure\")\n",
    "ax4.set_ylabel(\"pressure (Pa)\")\n",
    "\n",
    "ax5.plot(time,a)\n",
    "\n",
    "\n",
    "fig.subplots_adjust(hspace=.5, right=.6, top = .95, bottom = .05)"
   ]
  },
  {
   "cell_type": "code",
   "execution_count": null,
   "metadata": {},
   "outputs": [],
   "source": []
  }
 ],
 "metadata": {
  "kernelspec": {
   "display_name": "Python 3",
   "language": "python",
   "name": "python3"
  },
  "language_info": {
   "codemirror_mode": {
    "name": "ipython",
    "version": 3
   },
   "file_extension": ".py",
   "mimetype": "text/x-python",
   "name": "python",
   "nbconvert_exporter": "python",
   "pygments_lexer": "ipython3",
   "version": "3.7.4"
  }
 },
 "nbformat": 4,
 "nbformat_minor": 2
}
