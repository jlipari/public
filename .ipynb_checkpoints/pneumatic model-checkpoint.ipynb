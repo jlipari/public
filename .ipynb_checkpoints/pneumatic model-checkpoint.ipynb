{
 "cells": [
  {
   "cell_type": "markdown",
   "metadata": {},
   "source": [
    "<img src=\"pneumatic model.png\">"
   ]
  },
  {
   "cell_type": "code",
   "execution_count": 23,
   "metadata": {},
   "outputs": [
    {
     "name": "stdout",
     "output_type": "stream",
     "text": [
      "IPython console for SymPy 1.4 (Python 3.7.4-64-bit) (ground types: python)\n",
      "\n",
      "These commands were executed:\n",
      ">>> from __future__ import division\n",
      ">>> from sympy import *\n",
      ">>> x, y, z, t = symbols('x y z t')\n",
      ">>> k, m, n = symbols('k m n', integer=True)\n",
      ">>> f, g, h = symbols('f g h', cls=Function)\n",
      ">>> init_printing()\n",
      "\n",
      "Documentation can be found at https://docs.sympy.org/1.4/\n",
      "\n"
     ]
    }
   ],
   "source": [
    "import sympy as sym\n",
    "from sympy import init_session\n",
    "init_session()"
   ]
  },
  {
   "cell_type": "code",
   "execution_count": 24,
   "metadata": {},
   "outputs": [
    {
     "name": "stdout",
     "output_type": "stream",
     "text": [
      "eqn 1:\n"
     ]
    },
    {
     "data": {
      "image/png": "[encoded data removed]",
      "text/latex": [
       "$\\displaystyle - b v{\\left(t \\right)} - m \\frac{d}{d t} v{\\left(t \\right)} + F{\\left(t \\right)}$"
      ],
      "text/plain": [
       "            d              \n",
       "-b⋅v(t) - m⋅──(v(t)) + F(t)\n",
       "            dt             "
      ]
     },
     "metadata": {},
     "output_type": "display_data"
    },
    {
     "data": {
      "image/png": "[encoded data removed]",
      "text/latex": [
       "$\\displaystyle v{\\left(t \\right)} = \\left(C_{1} + \\frac{\\int F{\\left(t \\right)} e^{\\frac{b t}{m}}\\, dt}{m}\\right) e^{- \\frac{b t}{m}}$"
      ],
      "text/plain": [
       "       ⎛     ⌠             ⎞       \n",
       "       ⎜     ⎮       b⋅t   ⎟       \n",
       "       ⎜     ⎮       ───   ⎟       \n",
       "       ⎜     ⎮        m    ⎟  -b⋅t \n",
       "       ⎜     ⎮ F(t)⋅ℯ    dt⎟  ─────\n",
       "       ⎜     ⌡             ⎟    m  \n",
       "v(t) = ⎜C₁ + ──────────────⎟⋅ℯ     \n",
       "       ⎝           m       ⎠       "
      ]
     },
     "execution_count": 24,
     "metadata": {},
     "output_type": "execute_result"
    }
   ],
   "source": [
    "'''Simple Model\n",
    "inifinte tank --> p & F constant\n",
    "turf doesn't exist\n",
    "'''\n",
    "v, F = symbols('v F', cls=Function)\n",
    "#Apply Newtons law to the mass\n",
    "m = symbols('m')\n",
    "b = symbols('b')\n",
    "\n",
    "print('eqn 1:')\n",
    "eqn1 = F(t) - b*v(t) - Derivative(v(t),t)*m\n",
    "display(eqn1)\n",
    "sym.dsolve(eqn1, v(t))"
   ]
  },
  {
   "cell_type": "code",
   "execution_count": 25,
   "metadata": {},
   "outputs": [],
   "source": [
    "# '''solve numerically\n",
    "# '''\n",
    "# import numpy as np\n",
    "# from scipy.integrate import odeint\n",
    "# y = sym.symbols('y', cls = Function)\n",
    "# b = 1.0\n",
    "# m = 5.0\n",
    "# F = 10.0\n",
    "\n",
    "# def model(y,t,b):\n",
    "#     dvdt = -(-F + b*y)/m\n",
    "#     return dvdt\n",
    "\n",
    "# vo = 0.0\n",
    "# t = np.linspace(0,10,1000)\n",
    "# y = odeint(model,vo,t,(m,))\n",
    "\n",
    "# plt.plot(t,y)\n",
    "# plt.show()"
   ]
  },
  {
   "cell_type": "code",
   "execution_count": 57,
   "metadata": {},
   "outputs": [
    {
     "name": "stdout",
     "output_type": "stream",
     "text": [
      "ideal gas law\n"
     ]
    },
    {
     "data": {
      "image/png": "[encoded data removed]",
      "text/latex": [
       "$\\displaystyle - T n r + P{\\left(t \\right)} V{\\left(t \\right)}$"
      ],
      "text/plain": [
       "-T⋅n⋅r + P(t)⋅V(t)"
      ]
     },
     "metadata": {},
     "output_type": "display_data"
    },
    {
     "name": "stdout",
     "output_type": "stream",
     "text": [
      "eqn 2:\n"
     ]
    },
    {
     "data": {
      "image/png": "[encoded data removed]",
      "text/latex": [
       "$\\displaystyle - K_{a} + P{\\left(t \\right)} V{\\left(t \\right)}$"
      ],
      "text/plain": [
       "-Kₐ + P(t)⋅V(t)"
      ]
     },
     "metadata": {},
     "output_type": "display_data"
    },
    {
     "name": "stdout",
     "output_type": "stream",
     "text": [
      "eqn 3:\n"
     ]
    },
    {
     "data": {
      "image/png": "[encoded data removed]",
      "text/latex": [
       "$\\displaystyle - A_{bore} v{\\left(t \\right)} + \\frac{d}{d t} V{\\left(t \\right)}$"
      ],
      "text/plain": [
       "               d       \n",
       "-A_bore⋅v(t) + ──(V(t))\n",
       "               dt      "
      ]
     },
     "metadata": {},
     "output_type": "display_data"
    },
    {
     "name": "stdout",
     "output_type": "stream",
     "text": [
      "eqn 4:\n"
     ]
    },
    {
     "data": {
      "image/png": "[encoded data removed]",
      "text/latex": [
       "$\\displaystyle - A_{bore} P{\\left(t \\right)} + F{\\left(t \\right)}$"
      ],
      "text/plain": [
       "-A_bore⋅P(t) + F(t)"
      ]
     },
     "execution_count": 57,
     "metadata": {},
     "output_type": "execute_result"
    }
   ],
   "source": [
    "'''in actuality the volume of the tank will effect the dynamics\n",
    "assume constant temp\n",
    "'''\n",
    "# from pint import UnitRegistry\n",
    "# ureg = UnitRegistry()\n",
    "\n",
    "n,r,T = sym.symbols('n, r, T')\n",
    "V, P = sym.symbols('V, P', cls=Function)\n",
    "print(\"ideal gas law\")\n",
    "display(P(t)*V(t) -n*r*T)\n",
    "K_a = sym.symbols('K_a')\n",
    "print('eqn 2:')\n",
    "display(P(t)*V(t)-K_a)\n",
    "\n",
    "# #calculate the a constant\n",
    "# D_tank = 2.5*12\n",
    "# L_tank = 4*12\n",
    "# V_tank = D_tank**2*np.pi/4*L_tank*ureg.inch**3\n",
    "# V_tank.to(ureg.meter**3)\n",
    "# P_tank = 100*ureg.lbf/ureg.inch**2\n",
    "# P_tank.to(ureg.newton/ureg.meter**2)\n",
    "# K_tank = P_tank*V_tank\n",
    "# print(\"a constant\")\n",
    "# display(K_tank)\n",
    "\n",
    "#Actuator volume\n",
    "D_bore = sym.symbols('D_bore')\n",
    "A_bore = sym.symbols('A_bore')\n",
    "# A_bore = D_bore**2*k #k is a placeholder to get area\n",
    "print('eqn 3:')\n",
    "display(Derivative(V(t),t) - v(t)*A_bore)\n",
    "\n",
    "#Actuator force\n",
    "print('eqn 4:')\n",
    "F(t) - P(t)*A_bore"
   ]
  },
  {
   "cell_type": "code",
   "execution_count": 58,
   "metadata": {},
   "outputs": [
    {
     "name": "stdout",
     "output_type": "stream",
     "text": [
      "eqn 5:\n"
     ]
    },
    {
     "data": {
      "image/png": "[encoded data removed]",
      "text/latex": [
       "$\\displaystyle - \\frac{A_{bore} K_{a}}{V{\\left(t \\right)}} + F{\\left(t \\right)}$"
      ],
      "text/plain": [
       "  A_bore⋅Kₐ       \n",
       "- ───────── + F(t)\n",
       "     V(t)         "
      ]
     },
     "metadata": {},
     "output_type": "display_data"
    },
    {
     "name": "stdout",
     "output_type": "stream",
     "text": [
      "eqn 6:\n"
     ]
    },
    {
     "data": {
      "image/png": "[encoded data removed]",
      "text/latex": [
       "$\\displaystyle - A_{bore} \\int v{\\left(t \\right)}\\, dt + Vo + V{\\left(t \\right)}$"
      ],
      "text/plain": [
       "         ⌠                    \n",
       "- A_bore⋅⎮ v(t) dt + Vo + V(t)\n",
       "         ⌡                    "
      ]
     },
     "metadata": {},
     "output_type": "display_data"
    },
    {
     "name": "stdout",
     "output_type": "stream",
     "text": [
      "eqn 7:\n"
     ]
    },
    {
     "data": {
      "image/png": "[encoded data removed]",
      "text/latex": [
       "$\\displaystyle - \\frac{A_{bore} K_{a}}{A_{bore} \\int v{\\left(t \\right)}\\, dt - Vo} + F{\\left(t \\right)}$"
      ],
      "text/plain": [
       "        A_bore⋅Kₐ             \n",
       "- ───────────────────── + F(t)\n",
       "         ⌠                    \n",
       "  A_bore⋅⎮ v(t) dt - Vo       \n",
       "         ⌡                    "
      ]
     },
     "metadata": {},
     "output_type": "display_data"
    },
    {
     "name": "stdout",
     "output_type": "stream",
     "text": [
      "eqn 8:\n"
     ]
    },
    {
     "data": {
      "image/png": "[encoded data removed]",
      "text/latex": [
       "$\\displaystyle \\frac{A_{bore} K_{a}}{A_{bore} \\int v{\\left(t \\right)}\\, dt - Vo} - b v{\\left(t \\right)} - m \\frac{d}{d t} v{\\left(t \\right)}$"
      ],
      "text/plain": [
       "      A_bore⋅Kₐ                    d       \n",
       "───────────────────── - b⋅v(t) - m⋅──(v(t))\n",
       "       ⌠                           dt      \n",
       "A_bore⋅⎮ v(t) dt - Vo                      \n",
       "       ⌡                                   "
      ]
     },
     "metadata": {},
     "output_type": "display_data"
    },
    {
     "name": "stdout",
     "output_type": "stream",
     "text": [
      "eqn 9:\n"
     ]
    },
    {
     "data": {
      "image/png": "[encoded data removed]",
      "text/latex": [
       "$\\displaystyle \\frac{A_{bore} K_{a}}{A_{bore} x{\\left(t \\right)} - Vo} - b \\frac{d}{d t} x{\\left(t \\right)} - m \\frac{d^{2}}{d t^{2}} x{\\left(t \\right)}$"
      ],
      "text/plain": [
       "                                    2      \n",
       "   A_bore⋅Kₐ         d             d       \n",
       "──────────────── - b⋅──(x(t)) - m⋅───(x(t))\n",
       "A_bore⋅x(t) - Vo     dt             2      \n",
       "                                  dt       "
      ]
     },
     "metadata": {},
     "output_type": "display_data"
    }
   ],
   "source": [
    "'''we want F(t) in our original equation to be in terms of v(t)'''\n",
    "\n",
    "#sub 2 into 4\"\n",
    "print('eqn 5:')\n",
    "display(-A_bore*K_a/V(t)+F(t))\n",
    "\n",
    "#integrate 3\n",
    "#tank initial Volume\n",
    "Vo = sym.symbols('Vo')\n",
    "#actuator initial position\n",
    "xo = sym.symbols('xo')\n",
    "#but initial position we will call zero\n",
    "print('eqn 6:')\n",
    "#I'm skeptical of this equation because we should be seeing V(t) = Vo + A*x(t)\n",
    "display(-A_bore*Integral(v(t),t) + V(t) +Vo)\n",
    "\n",
    "#sub 6 into 5\n",
    "print('eqn 7:')\n",
    "eqn7 = (-A_bore*K_a/(A_bore*Integral(v(t),t)-Vo) + F(t))\n",
    "display(-A_bore*K_a/(A_bore*Integral(v(t),t)-Vo) + F(t))\n",
    "# eqn2 = A_bore*P(t) - b*v(t) - Derivative(v(t),t)*m\n",
    "# display(eqn2)\n",
    "sol = (solve(eqn7, F(t))[0])\n",
    "\n",
    "#sub 7 into 1\n",
    "print('eqn 8:')\n",
    "eqn8 = solve(eqn7, F(t))[0] - b*v(t) - Derivative(v(t),t)*m\n",
    "display(eqn8)\n",
    "\n",
    "#write in terms of x(t)\n",
    "x = symbols('x', cls=Function)\n",
    "\n",
    "print('eqn 9:')\n",
    "eqn9 = eqn8.subs({Integral(v(t),t):x(t), v(t): Derivative(x(t),t)})  \n",
    "display(eqn9)\n",
    "\n"
   ]
  },
  {
   "cell_type": "code",
   "execution_count": 69,
   "metadata": {},
   "outputs": [
    {
     "name": "stdout",
     "output_type": "stream",
     "text": [
      "eqn 10:\n"
     ]
    },
    {
     "data": {
      "image/png": "[encoded data removed]",
      "text/latex": [
       "$\\displaystyle \\frac{K_{a}}{\\alpha + x{\\left(t \\right)}} - b \\frac{d}{d t} x{\\left(t \\right)} - m \\frac{d^{2}}{d t^{2}} x{\\left(t \\right)}$"
      ],
      "text/plain": [
       "                            2      \n",
       "   Kₐ        d             d       \n",
       "──────── - b⋅──(x(t)) - m⋅───(x(t))\n",
       "α + x(t)     dt             2      \n",
       "                          dt       "
      ]
     },
     "metadata": {},
     "output_type": "display_data"
    },
    {
     "name": "stdout",
     "output_type": "stream",
     "text": [
      "eqn 11:\n"
     ]
    },
    {
     "data": {
      "image/png": "[encoded data removed]",
      "text/latex": [
       "$\\displaystyle K_{a} - \\left(\\alpha + x{\\left(t \\right)}\\right) \\left(b \\frac{d}{d t} x{\\left(t \\right)} + m \\frac{d^{2}}{d t^{2}} x{\\left(t \\right)}\\right)$"
      ],
      "text/plain": [
       "                ⎛                 2      ⎞\n",
       "                ⎜  d             d       ⎟\n",
       "Kₐ - (α + x(t))⋅⎜b⋅──(x(t)) + m⋅───(x(t))⎟\n",
       "                ⎜  dt             2      ⎟\n",
       "                ⎝               dt       ⎠"
      ]
     },
     "metadata": {},
     "output_type": "display_data"
    }
   ],
   "source": [
    "#seperate out my x(t) from the constant so I can write it as a non-homogenous equation easier\n",
    "\n",
    "#take alpha = -Vo/A\n",
    "alpha = symbols('alpha')\n",
    "eqn10 = K_a/(x(t)+alpha) - b*Derivative(x(t),t)-m*Derivative(x(t),t,t)\n",
    "print('eqn 10:')\n",
    "display(eqn10)\n",
    "\n",
    "#multiply through to coerce function into standard form\n",
    "eqn11 = eqn10*(alpha+x(t))\n",
    "print('eqn 11:')\n",
    "display(simplify(eqn11))"
   ]
  },
  {
   "cell_type": "code",
   "execution_count": 104,
   "metadata": {},
   "outputs": [
    {
     "data": {
      "image/png": "[encoded data removed]",
      "text/latex": [
       "$\\displaystyle \\frac{K_{a} - \\alpha b \\frac{d}{d t} x{\\left(t \\right)} - b x{\\left(t \\right)} \\frac{d}{d t} x{\\left(t \\right)}}{m \\left(\\alpha + x{\\left(t \\right)}\\right)}$"
      ],
      "text/plain": [
       "         d                 d       \n",
       "Kₐ - α⋅b⋅──(x(t)) - b⋅x(t)⋅──(x(t))\n",
       "         dt                dt      \n",
       "───────────────────────────────────\n",
       "            m⋅(α + x(t))           "
      ]
     },
     "metadata": {},
     "output_type": "display_data"
    },
    {
     "data": {
      "image/png": "[encoded data removed]",
      "text/latex": [
       "$\\displaystyle \\frac{A_{bore} K_{a} - A_{bore} b x{\\left(t \\right)} \\frac{d}{d t} x{\\left(t \\right)} + Vo b \\frac{d}{d t} x{\\left(t \\right)}}{m \\left(A_{bore} x{\\left(t \\right)} - Vo\\right)}$"
      ],
      "text/plain": [
       "                          d               d       \n",
       "A_bore⋅Kₐ - A_bore⋅b⋅x(t)⋅──(x(t)) + Vo⋅b⋅──(x(t))\n",
       "                          dt              dt      \n",
       "──────────────────────────────────────────────────\n",
       "               m⋅(A_bore⋅x(t) - Vo)               "
      ]
     },
     "metadata": {},
     "output_type": "display_data"
    },
    {
     "data": {
      "text/plain": [
       "[<matplotlib.lines.Line2D at 0x207e1b57c48>]"
      ]
     },
     "execution_count": 104,
     "metadata": {},
     "output_type": "execute_result"
    }
   ],
   "source": [
    "'''solve equation numerically.\n",
    "v(t) = x'(t)\n",
    "\n",
    "'''\n",
    "#solve eqn11 in terms of the double derivative\n",
    "eqn12 = solve(eqn11, Derivative(x(t),t,t))[0]\n",
    "display(eqn12)\n",
    "\n",
    "#I actually want to see where A_bore and Vo end up in this form\n",
    "eqn13 = solve(eqn9, Derivative(x(t),t,t))[0]\n",
    "display(eqn13)\n",
    "\n",
    "\n",
    "from scipy.integrate import odeint\n",
    "import numpy as np\n",
    "\n",
    "Ka = 1\n",
    "alpha = 1\n",
    "b = .1\n",
    "m = 10\n",
    "\n",
    "def model(x,t):\n",
    "    y = x[0]\n",
    "    dy = x[1]\n",
    "    K = 30\n",
    "    xdot = [[],[]]\n",
    "    xdot[0] = dy\n",
    "    xdot[1] = (Ka - alpha*b*dy - b*y*dy)/(m*(alpha + y))\n",
    "    return xdot\n",
    "time = np.linspace(0,10,1000)\n",
    "z2 = odeint(model, [0,0],time)\n",
    "\n",
    "import matplotlib.pyplot as plt\n",
    "plt.close()\n",
    "plt.plot(time, z2[:,0],'g-')\n",
    "plt.plot(time, z2[:,1],'r-')"
   ]
  },
  {
   "cell_type": "code",
   "execution_count": null,
   "metadata": {},
   "outputs": [],
   "source": []
  }
 ],
 "metadata": {
  "kernelspec": {
   "display_name": "Python 3",
   "language": "python",
   "name": "python3"
  },
  "language_info": {
   "codemirror_mode": {
    "name": "ipython",
    "version": 3
   },
   "file_extension": ".py",
   "mimetype": "text/x-python",
   "name": "python",
   "nbconvert_exporter": "python",
   "pygments_lexer": "ipython3",
   "version": "3.7.4"
  }
 },
 "nbformat": 4,
 "nbformat_minor": 2
}
